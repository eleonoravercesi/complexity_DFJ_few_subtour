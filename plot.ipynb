{
 "cells": [
  {
   "metadata": {},
   "cell_type": "markdown",
   "source": "# An \"easy\" and an \"hard\" instance for the `ialg` algorithm",
   "id": "9a63ef148dc414c9"
  },
  {
   "metadata": {},
   "cell_type": "markdown",
   "source": [
    "While conducting our experimentes, we found two instances having a significant difference in the number of iterations required to execute the `ialg' algorithm . The first instance is the \"easy\" instance, which is the instance that requires the least number of iterations to solve the problem. The second instance is the \"hard\" instance, which is the instance that requires the most number of iterations to solve the problem. On the computer we used for the experiments, the second instances makes the algorithm run out of memory.\n",
    "\n",
    "First, we import the packages we need as well as the function we need from `utils.py`"
   ],
   "id": "98eb222ab77564d7"
  },
  {
   "metadata": {},
   "cell_type": "code",
   "source": [
    "from utils import ialg\n",
    "import numpy as np\n",
    "import networkx as nx\n",
    "from scipy.spatial.distance import cdist\n",
    "import time\n",
    "import matplotlib.pyplot as plt "
   ],
   "id": "785b11a383b59973",
   "outputs": [],
   "execution_count": null
  },
  {
   "metadata": {},
   "cell_type": "markdown",
   "source": "While running our experiments, we found by chance the seed leading to the easy and the hard instance",
   "id": "451c27c5db505b5b"
  },
  {
   "metadata": {},
   "cell_type": "code",
   "source": [
    "# Set the number of nodes\n",
    "n = 25\n",
    "seed_easy = 0\n",
    "seed_hard = 1"
   ],
   "id": "890af3b3e18ada5c",
   "outputs": [],
   "execution_count": null
  },
  {
   "metadata": {},
   "cell_type": "markdown",
   "source": "## Easy instance",
   "id": "cc59200c28b021e9"
  },
  {
   "metadata": {},
   "cell_type": "code",
   "source": [
    "np.random.seed(n * seed_easy) # To ensure reproducibility\n",
    "# Sample n points in the unit square\n",
    "X = np.random.uniform(0, 1, (n, 2))\n",
    "# Compute the euclidean distance matrix\n",
    "D = cdist(X, X, 'euclidean')"
   ],
   "id": "fa932feb3fa75928",
   "outputs": [],
   "execution_count": null
  },
  {
   "metadata": {},
   "cell_type": "markdown",
   "source": "Plot the distribution of the points",
   "id": "fe643e3ff8b33ff"
  },
  {
   "metadata": {},
   "cell_type": "code",
   "source": [
    "plt.figure(figsize=(10, 10))\n",
    "plt.scatter(X[:, 0], X[:, 1])\n",
    "plt.show()"
   ],
   "id": "b08fe9c82410a901",
   "outputs": [],
   "execution_count": null
  },
  {
   "metadata": {},
   "cell_type": "code",
   "source": [
    "# Create a graph and assign weight\n",
    "G = nx.Graph()\n",
    "for i in range(n):\n",
    "    for j in range(i + 1, n):\n",
    "        G.add_edge(i, j, cost=round(1000*D[i, j])) "
   ],
   "id": "774f228f595e1a6a",
   "outputs": [],
   "execution_count": null
  },
  {
   "metadata": {},
   "cell_type": "code",
   "source": [
    "start = time.time()\n",
    "S_family, S_num = ialg(G, verbose=True)\n",
    "print(\"Time taken for easy instance: \", time.time() - start)"
   ],
   "id": "17fdb8942ea4f2",
   "outputs": [],
   "execution_count": null
  },
  {
   "metadata": {},
   "cell_type": "markdown",
   "source": "## Hard instance",
   "id": "d2d8d1f7b2351836"
  },
  {
   "metadata": {},
   "cell_type": "code",
   "source": [
    "np.random.seed(n * seed_hard) # To ensure reproducibility\n",
    "# Sample n points in the unit square\n",
    "X = np.random.uniform(0, 1, (n, 2))\n",
    "# Compute the euclidean distance matrix\n",
    "D = cdist(X, X, 'euclidean')"
   ],
   "id": "43b473cf7c1427c2",
   "outputs": [],
   "execution_count": null
  },
  {
   "metadata": {},
   "cell_type": "markdown",
   "source": "Even in this case, we plot the distribution of the points to assess some differences",
   "id": "b9d9bf90d7b71e44"
  },
  {
   "metadata": {},
   "cell_type": "code",
   "source": [
    "plt.figure(figsize=(10, 10))\n",
    "plt.scatter(X[:, 0], X[:, 1])\n",
    "plt.show()"
   ],
   "id": "78a74dd43a3cb716",
   "outputs": [],
   "execution_count": null
  },
  {
   "metadata": {},
   "cell_type": "code",
   "source": [
    "# Create a graph and assign weight\n",
    "G = nx.Graph()\n",
    "for i in range(n):\n",
    "    for j in range(i + 1, n):\n",
    "        G.add_edge(i, j, cost=round(1000*[i, j])) "
   ],
   "id": "3fec78b73a1e0108",
   "outputs": [],
   "execution_count": null
  },
  {
   "metadata": {},
   "cell_type": "markdown",
   "source": "We run the `ialg` algorithm on the hard instance. Note that it may go out of memory.",
   "id": "2c8b3ecea175cc96"
  },
  {
   "metadata": {},
   "cell_type": "code",
   "source": [
    "start = time.time()\n",
    "S_family, S_num = ialg(G, verbose=True)\n",
    "print(\"Time taken for hard instance: \", time.time() - start)"
   ],
   "id": "2f0d6a53e7669d50",
   "outputs": [],
   "execution_count": null
  },
  {
   "metadata": {},
   "cell_type": "code",
   "source": "",
   "id": "2271eed135591d52",
   "outputs": [],
   "execution_count": null
  }
 ],
 "metadata": {
  "kernelspec": {
   "display_name": "Python 3",
   "language": "python",
   "name": "python3"
  },
  "language_info": {
   "codemirror_mode": {
    "name": "ipython",
    "version": 2
   },
   "file_extension": ".py",
   "mimetype": "text/x-python",
   "name": "python",
   "nbconvert_exporter": "python",
   "pygments_lexer": "ipython2",
   "version": "2.7.6"
  }
 },
 "nbformat": 4,
 "nbformat_minor": 5
}
