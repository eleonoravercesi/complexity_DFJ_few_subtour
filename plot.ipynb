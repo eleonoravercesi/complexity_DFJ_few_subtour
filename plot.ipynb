{
 "cells": [
  {
   "metadata": {},
   "cell_type": "markdown",
   "source": "# An \"easy\" and an \"hard\" instance for the `ialg` algorithm",
   "id": "9a63ef148dc414c9"
  },
  {
   "metadata": {},
   "cell_type": "markdown",
   "source": [
    "While conducting our experimentes, we found two instances having a significant difference in the number of iterations required to execute the `ialg' algorithm . The first instance is the \"easy\" instance, which is the instance that requires the least number of iterations to solve the problem. The second instance is the \"hard\" instance, which is the instance that requires the most number of iterations to solve the problem. On the computer we used for the experiments, the second instances makes the algorithm run out of memory.\n",
    "\n",
    "First, we import the packages we need as well as the function we need from `utils.py`"
   ],
   "id": "98eb222ab77564d7"
  },
  {
   "metadata": {
    "ExecuteTime": {
     "end_time": "2024-08-08T12:09:58.486397Z",
     "start_time": "2024-08-08T12:09:58.063798Z"
    }
   },
   "cell_type": "code",
   "source": [
    "from utils import ialg\n",
    "import numpy as np\n",
    "import networkx as nx\n",
    "from scipy.spatial.distance import cdist\n",
    "import time\n",
    "import matplotlib.pyplot as plt "
   ],
   "id": "785b11a383b59973",
   "outputs": [],
   "execution_count": 1
  },
  {
   "metadata": {},
   "cell_type": "markdown",
   "source": "While running our experiments, we found by chance the seed leading to the easy and the hard instance",
   "id": "451c27c5db505b5b"
  },
  {
   "metadata": {
    "ExecuteTime": {
     "end_time": "2024-08-08T12:09:58.488286Z",
     "start_time": "2024-08-08T12:09:58.486964Z"
    }
   },
   "cell_type": "code",
   "source": [
    "# Set the number of nodes\n",
    "n = 25\n",
    "seed_easy = 0\n",
    "seed_hard = 1"
   ],
   "id": "890af3b3e18ada5c",
   "outputs": [],
   "execution_count": 2
  },
  {
   "metadata": {},
   "cell_type": "markdown",
   "source": "## Easy instance",
   "id": "cc59200c28b021e9"
  },
  {
   "metadata": {
    "ExecuteTime": {
     "end_time": "2024-08-08T12:09:58.491971Z",
     "start_time": "2024-08-08T12:09:58.488774Z"
    }
   },
   "cell_type": "code",
   "source": [
    "np.random.seed(n * seed_easy) # To ensure reproducibility\n",
    "# Sample n points in the unit square\n",
    "X = np.random.uniform(0, 1, (n, 2))\n",
    "# Compute the euclidean distance matrix\n",
    "D = cdist(X, X, 'euclidean')"
   ],
   "id": "fa932feb3fa75928",
   "outputs": [],
   "execution_count": 3
  },
  {
   "metadata": {},
   "cell_type": "markdown",
   "source": "Plot the distribution of the points",
   "id": "fe643e3ff8b33ff"
  },
  {
   "metadata": {
    "ExecuteTime": {
     "end_time": "2024-08-08T12:09:58.546310Z",
     "start_time": "2024-08-08T12:09:58.492445Z"
    }
   },
   "cell_type": "code",
   "source": [
    "plt.figure(figsize=(10, 10))\n",
    "plt.scatter(X[:, 0], X[:, 1])\n",
    "plt.show()"
   ],
   "id": "b08fe9c82410a901",
   "outputs": [
    {
     "data": {
      "text/plain": [
       "<Figure size 720x720 with 1 Axes>"
      ],
      "image/png": "[encoded data removed]"
     },
     "metadata": {
      "needs_background": "light"
     },
     "output_type": "display_data"
    }
   ],
   "execution_count": 4
  },
  {
   "metadata": {
    "ExecuteTime": {
     "end_time": "2024-08-08T12:09:58.548800Z",
     "start_time": "2024-08-08T12:09:58.546808Z"
    }
   },
   "cell_type": "code",
   "source": [
    "# Create a graph and assign weight\n",
    "G = nx.Graph()\n",
    "for i in range(n):\n",
    "    for j in range(i + 1, n):\n",
    "        G.add_edge(i, j, cost=round(1000*D[i, j])) "
   ],
   "id": "774f228f595e1a6a",
   "outputs": [],
   "execution_count": 5
  },
  {
   "metadata": {
    "ExecuteTime": {
     "end_time": "2024-08-08T12:09:58.581350Z",
     "start_time": "2024-08-08T12:09:58.549232Z"
    }
   },
   "cell_type": "code",
   "source": [
    "start = time.time()\n",
    "S_family, S_num = ialg(G, verbose=True)\n",
    "print(\"Time taken for easy instance: \", time.time() - start)"
   ],
   "id": "17fdb8942ea4f2",
   "outputs": [
    {
     "name": "stdout",
     "output_type": "stream",
     "text": [
      "Set parameter Username\n",
      "Academic license - for non-commercial use only - expires 2025-01-18\n",
      "num_bb_nodes, num_subtour_constrs, num_conn_comp = 1 0 3\n",
      "num_bb_nodes, num_subtour_constrs, num_conn_comp = 2 1 2\n",
      "Found a solution with this many subtours: 1\n",
      "Specifically, they are:\n",
      "[8, 12, 13, 15, 17]\n",
      "S_family =  [[8, 12, 13, 15, 17]]\n",
      "Time taken for easy instance:  0.030076026916503906\n"
     ]
    }
   ],
   "execution_count": 6
  },
  {
   "metadata": {},
   "cell_type": "markdown",
   "source": "## Hard instance",
   "id": "d2d8d1f7b2351836"
  },
  {
   "metadata": {
    "ExecuteTime": {
     "end_time": "2024-08-08T12:09:58.584465Z",
     "start_time": "2024-08-08T12:09:58.582384Z"
    }
   },
   "cell_type": "code",
   "source": [
    "np.random.seed(n * seed_hard) # To ensure reproducibility\n",
    "# Sample n points in the unit square\n",
    "X = np.random.uniform(0, 1, (n, 2))\n",
    "# Compute the euclidean distance matrix\n",
    "D = cdist(X, X, 'euclidean')"
   ],
   "id": "43b473cf7c1427c2",
   "outputs": [],
   "execution_count": 7
  },
  {
   "metadata": {},
   "cell_type": "markdown",
   "source": "Even in this case, we plot the distribution of the points to assess some differences",
   "id": "b9d9bf90d7b71e44"
  },
  {
   "metadata": {
    "ExecuteTime": {
     "end_time": "2024-08-08T12:09:58.637106Z",
     "start_time": "2024-08-08T12:09:58.585213Z"
    }
   },
   "cell_type": "code",
   "source": [
    "plt.figure(figsize=(10, 10))\n",
    "plt.scatter(X[:, 0], X[:, 1])\n",
    "plt.show()"
   ],
   "id": "78a74dd43a3cb716",
   "outputs": [
    {
     "data": {
      "text/plain": [
       "<Figure size 720x720 with 1 Axes>"
      ],
      "image/png": "[encoded data removed]"
     },
     "metadata": {
      "needs_background": "light"
     },
     "output_type": "display_data"
    }
   ],
   "execution_count": 8
  },
  {
   "metadata": {
    "ExecuteTime": {
     "end_time": "2024-08-08T12:10:26.957454Z",
     "start_time": "2024-08-08T12:10:26.955245Z"
    }
   },
   "cell_type": "code",
   "source": [
    "# Create a graph and assign weight\n",
    "G = nx.Graph()\n",
    "for i in range(n):\n",
    "    for j in range(i + 1, n):\n",
    "        G.add_edge(i, j, cost=round(1000*D[i, j])) "
   ],
   "id": "3fec78b73a1e0108",
   "outputs": [],
   "execution_count": 10
  },
  {
   "metadata": {},
   "cell_type": "markdown",
   "source": "We run the `ialg` algorithm on the hard instance, we interrupt it manually after a while, as it runs OOM.",
   "id": "2c8b3ecea175cc96"
  },
  {
   "metadata": {
    "ExecuteTime": {
     "end_time": "2024-08-08T12:10:39.100796Z",
     "start_time": "2024-08-08T12:10:31.423733Z"
    }
   },
   "cell_type": "code",
   "source": [
    "start = time.time()\n",
    "S_family, S_num = ialg(G, verbose=True)\n",
    "print(\"Time taken for hard instance: \", time.time() - start)"
   ],
   "id": "2f0d6a53e7669d50",
   "outputs": [
    {
     "name": "stdout",
     "output_type": "stream",
     "text": [
      "num_bb_nodes, num_subtour_constrs, num_conn_comp = 1 0 7\n",
      "num_bb_nodes, num_subtour_constrs, num_conn_comp = 2 1 5\n",
      "num_bb_nodes, num_subtour_constrs, num_conn_comp = 4 1 7\n",
      "num_bb_nodes, num_subtour_constrs, num_conn_comp = 8 1 7\n",
      "num_bb_nodes, num_subtour_constrs, num_conn_comp = 16 1 7\n",
      "num_bb_nodes, num_subtour_constrs, num_conn_comp = 32 1 7\n",
      "num_bb_nodes, num_subtour_constrs, num_conn_comp = 64 1 6\n",
      "num_bb_nodes, num_subtour_constrs, num_conn_comp = 128 2 7\n",
      "num_bb_nodes, num_subtour_constrs, num_conn_comp = 256 2 5\n",
      "num_bb_nodes, num_subtour_constrs, num_conn_comp = 512 2 5\n",
      "num_bb_nodes, num_subtour_constrs, num_conn_comp = 1024 2 5\n",
      "num_bb_nodes, num_subtour_constrs, num_conn_comp = 2048 2 5\n"
     ]
    },
    {
     "ename": "KeyboardInterrupt",
     "evalue": "",
     "output_type": "error",
     "traceback": [
      "\u001B[0;31m---------------------------------------------------------------------------\u001B[0m",
      "\u001B[0;31mKeyboardInterrupt\u001B[0m                         Traceback (most recent call last)",
      "\u001B[0;32m<ipython-input-11-6ab2f7f8a33f>\u001B[0m in \u001B[0;36m<module>\u001B[0;34m()\u001B[0m\n\u001B[1;32m      1\u001B[0m \u001B[0mstart\u001B[0m \u001B[0;34m=\u001B[0m \u001B[0mtime\u001B[0m\u001B[0;34m.\u001B[0m\u001B[0mtime\u001B[0m\u001B[0;34m(\u001B[0m\u001B[0;34m)\u001B[0m\u001B[0;34m\u001B[0m\u001B[0m\n\u001B[0;32m----> 2\u001B[0;31m \u001B[0mS_family\u001B[0m\u001B[0;34m,\u001B[0m \u001B[0mS_num\u001B[0m \u001B[0;34m=\u001B[0m \u001B[0mialg\u001B[0m\u001B[0;34m(\u001B[0m\u001B[0mG\u001B[0m\u001B[0;34m,\u001B[0m \u001B[0mverbose\u001B[0m\u001B[0;34m=\u001B[0m\u001B[0;32mTrue\u001B[0m\u001B[0;34m)\u001B[0m\u001B[0;34m\u001B[0m\u001B[0m\n\u001B[0m\u001B[1;32m      3\u001B[0m \u001B[0mprint\u001B[0m\u001B[0;34m(\u001B[0m\u001B[0;34m\"Time taken for hard instance: \"\u001B[0m\u001B[0;34m,\u001B[0m \u001B[0mtime\u001B[0m\u001B[0;34m.\u001B[0m\u001B[0mtime\u001B[0m\u001B[0;34m(\u001B[0m\u001B[0;34m)\u001B[0m \u001B[0;34m-\u001B[0m \u001B[0mstart\u001B[0m\u001B[0;34m)\u001B[0m\u001B[0;34m\u001B[0m\u001B[0m\n",
      "\u001B[0;32m~/Documents/complexity_DFJ_few_subtour/utils.py\u001B[0m in \u001B[0;36mialg\u001B[0;34m(G, verbose)\u001B[0m\n\u001B[1;32m    111\u001B[0m         \u001B[0;31m# optimize\u001B[0m\u001B[0;34m\u001B[0m\u001B[0;34m\u001B[0m\u001B[0m\n\u001B[1;32m    112\u001B[0m         \u001B[0mm\u001B[0m\u001B[0;34m.\u001B[0m\u001B[0moptimize\u001B[0m\u001B[0;34m(\u001B[0m\u001B[0;34m)\u001B[0m\u001B[0;34m\u001B[0m\u001B[0m\n\u001B[0;32m--> 113\u001B[0;31m         \u001B[0mtour_edges\u001B[0m \u001B[0;34m=\u001B[0m \u001B[0;34m[\u001B[0m\u001B[0me\u001B[0m \u001B[0;32mfor\u001B[0m \u001B[0me\u001B[0m \u001B[0;32min\u001B[0m \u001B[0mG\u001B[0m\u001B[0;34m.\u001B[0m\u001B[0medges\u001B[0m \u001B[0;32mif\u001B[0m \u001B[0mx\u001B[0m\u001B[0;34m[\u001B[0m\u001B[0me\u001B[0m\u001B[0;34m]\u001B[0m\u001B[0;34m.\u001B[0m\u001B[0mx\u001B[0m \u001B[0;34m>\u001B[0m \u001B[0;36m0.5\u001B[0m\u001B[0;34m]\u001B[0m\u001B[0;34m\u001B[0m\u001B[0m\n\u001B[0m\u001B[1;32m    114\u001B[0m \u001B[0;34m\u001B[0m\u001B[0m\n\u001B[1;32m    115\u001B[0m         \u001B[0;31m# remove subtour constraints (so m can be re-used for later solves)\u001B[0m\u001B[0;34m\u001B[0m\u001B[0;34m\u001B[0m\u001B[0m\n",
      "\u001B[0;32m~/Documents/complexity_DFJ_few_subtour/utils.py\u001B[0m in \u001B[0;36m<listcomp>\u001B[0;34m(.0)\u001B[0m\n\u001B[1;32m    111\u001B[0m         \u001B[0;31m# optimize\u001B[0m\u001B[0;34m\u001B[0m\u001B[0;34m\u001B[0m\u001B[0m\n\u001B[1;32m    112\u001B[0m         \u001B[0mm\u001B[0m\u001B[0;34m.\u001B[0m\u001B[0moptimize\u001B[0m\u001B[0;34m(\u001B[0m\u001B[0;34m)\u001B[0m\u001B[0;34m\u001B[0m\u001B[0m\n\u001B[0;32m--> 113\u001B[0;31m         \u001B[0mtour_edges\u001B[0m \u001B[0;34m=\u001B[0m \u001B[0;34m[\u001B[0m\u001B[0me\u001B[0m \u001B[0;32mfor\u001B[0m \u001B[0me\u001B[0m \u001B[0;32min\u001B[0m \u001B[0mG\u001B[0m\u001B[0;34m.\u001B[0m\u001B[0medges\u001B[0m \u001B[0;32mif\u001B[0m \u001B[0mx\u001B[0m\u001B[0;34m[\u001B[0m\u001B[0me\u001B[0m\u001B[0;34m]\u001B[0m\u001B[0;34m.\u001B[0m\u001B[0mx\u001B[0m \u001B[0;34m>\u001B[0m \u001B[0;36m0.5\u001B[0m\u001B[0;34m]\u001B[0m\u001B[0;34m\u001B[0m\u001B[0m\n\u001B[0m\u001B[1;32m    114\u001B[0m \u001B[0;34m\u001B[0m\u001B[0m\n\u001B[1;32m    115\u001B[0m         \u001B[0;31m# remove subtour constraints (so m can be re-used for later solves)\u001B[0m\u001B[0;34m\u001B[0m\u001B[0;34m\u001B[0m\u001B[0m\n",
      "\u001B[0;31mKeyboardInterrupt\u001B[0m: "
     ]
    }
   ],
   "execution_count": 11
  },
  {
   "metadata": {
    "ExecuteTime": {
     "start_time": "2024-08-08T12:09:58.679515Z"
    }
   },
   "cell_type": "code",
   "source": "",
   "id": "2271eed135591d52",
   "outputs": [],
   "execution_count": null
  }
 ],
 "metadata": {
  "kernelspec": {
   "display_name": "Python 3",
   "language": "python",
   "name": "python3"
  },
  "language_info": {
   "codemirror_mode": {
    "name": "ipython",
    "version": 2
   },
   "file_extension": ".py",
   "mimetype": "text/x-python",
   "name": "python",
   "nbconvert_exporter": "python",
   "pygments_lexer": "ipython2",
   "version": "2.7.6"
  }
 },
 "nbformat": 4,
 "nbformat_minor": 5
}
