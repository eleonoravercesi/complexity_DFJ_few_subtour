{
 "cells": [
  {
   "metadata": {},
   "cell_type": "markdown",
   "source": [
    "# Running the `ialg` algorithm on the TSPLIB and the HardTSPLIB instances\n",
    "\n",
    "Here, we want to compute the minimum number of SECs needed to prove optimality for some small famous instances in the TSPLIB [1] and some hard-to-solve instances in the HardTSPLIB [2]. We will use the `ialg` algorithm to compute the minimum number of SECs needed to prove optimality for these instances.\n",
    "\n",
    "### References\n",
    "[1] Reinelt, Gerhard. \"TSPLIB—A traveling salesman problem library.\" ORSA journal on computing 3.4 (1991): 376-384.\n",
    "\n",
    "[2] Vercesi, Eleonora, et al. \"On the generation of metric TSP instances with a large integrality gap by branch-and-cut.\" Mathematical Programming Computation 15.2 (2023): 389-416.\n"
   ],
   "id": "852d979afd5d209c"
  },
  {
   "metadata": {
    "ExecuteTime": {
     "end_time": "2024-08-08T12:40:51.681479Z",
     "start_time": "2024-08-08T12:40:51.679216Z"
    }
   },
   "cell_type": "code",
   "source": [
    "from utils import ialg, from_tsplib_file_to_graph\n",
    "import tsplib95"
   ],
   "id": "155b32edd5b85417",
   "outputs": [],
   "execution_count": 9
  },
  {
   "metadata": {},
   "cell_type": "markdown",
   "source": [
    "## TSPLIB instances\n",
    "\n",
    "These are the instances we were able to conduct the experiment on. Bigger instances were not feasible to run on our machine. If you want to test other instances, just add them to the `tsplib_instances` list at position 0."
   ],
   "id": "f2f7a195137104a9"
  },
  {
   "metadata": {
    "ExecuteTime": {
     "end_time": "2024-08-08T12:40:51.684893Z",
     "start_time": "2024-08-08T12:40:51.682809Z"
    }
   },
   "cell_type": "code",
   "source": "tsplib_instances = [(\"burma14\", 14), (\"ulysses16\", 16), (\"gr17\", 17), (\"ulysses22\", 22), (\"fri26\", 29), (\"bayg29\", 29), (\"bays29\", 29), (\"swiss42\", 42), (\"dantzig42\", 42)]",
   "id": "d9ffd74696b830dc",
   "outputs": [],
   "execution_count": 10
  },
  {
   "metadata": {
    "ExecuteTime": {
     "end_time": "2024-08-08T12:40:51.687412Z",
     "start_time": "2024-08-08T12:40:51.685880Z"
    }
   },
   "cell_type": "code",
   "source": [
    "# Store the values in a dictionary\n",
    "out = {}"
   ],
   "id": "d13ffff855b8c0da",
   "outputs": [],
   "execution_count": 11
  },
  {
   "metadata": {},
   "cell_type": "markdown",
   "source": "Now, we run the `ialg` algorithm on the TSPLIB instances. Unfortunately, this may take a while",
   "id": "ed41b98b5f0754fa"
  },
  {
   "metadata": {
    "jupyter": {
     "is_executing": true
    },
    "ExecuteTime": {
     "start_time": "2024-08-08T12:40:51.688191Z"
    }
   },
   "cell_type": "code",
   "source": [
    "for instance_name, n in tsplib_instances:\n",
    "    # Parse the instance\n",
    "    G = from_tsplib_file_to_graph(\"./data/\" + instance_name)\n",
    "    print(\"******* Instance:\", instance_name, \"*******\")\n",
    "    S_family, S_num = ialg(G, verbose=True)\n",
    "    out[instance_name] = S_num"
   ],
   "id": "aef3ecd7abca123e",
   "outputs": [
    {
     "name": "stdout",
     "output_type": "stream",
     "text": [
      "******* Instance: burma14 *******\n",
      "num_bb_nodes, num_subtour_constrs, num_conn_comp = 1 0 3\n",
      "num_bb_nodes, num_subtour_constrs, num_conn_comp = 2 1 2\n",
      "num_bb_nodes, num_subtour_constrs, num_conn_comp = 4 1 2\n",
      "Found a solution with this many subtours: 2\n",
      "Specifically, they are:\n",
      "[0, 1, 7, 8, 9, 10]\n",
      "[8, 9, 10]\n",
      "S_family =  [[0, 1, 7, 8, 9, 10], [8, 9, 10]]\n",
      "******* Instance: ulysses16 *******\n",
      "num_bb_nodes, num_subtour_constrs, num_conn_comp = 1 0 4\n",
      "num_bb_nodes, num_subtour_constrs, num_conn_comp = 2 1 3\n",
      "num_bb_nodes, num_subtour_constrs, num_conn_comp = 4 1 3\n",
      "num_bb_nodes, num_subtour_constrs, num_conn_comp = 8 1 3\n",
      "num_bb_nodes, num_subtour_constrs, num_conn_comp = 16 2 3\n",
      "num_bb_nodes, num_subtour_constrs, num_conn_comp = 32 3 2\n",
      "num_bb_nodes, num_subtour_constrs, num_conn_comp = 64 3 2\n",
      "Found a solution with this many subtours: 4\n",
      "Specifically, they are:\n",
      "[0, 7, 15, 1, 2, 3]\n",
      "[1, 2, 3]\n",
      "[0, 1, 2, 3, 7]\n",
      "[4, 5, 6, 8, 9, 10, 14]\n",
      "S_family =  [[0, 7, 15, 1, 2, 3], [1, 2, 3], [0, 1, 2, 3, 7], [4, 5, 6, 8, 9, 10, 14]]\n",
      "******* Instance: gr17 *******\n",
      "num_bb_nodes, num_subtour_constrs, num_conn_comp = 1 0 5\n",
      "num_bb_nodes, num_subtour_constrs, num_conn_comp = 2 1 5\n",
      "num_bb_nodes, num_subtour_constrs, num_conn_comp = 4 1 4\n",
      "num_bb_nodes, num_subtour_constrs, num_conn_comp = 8 1 4\n",
      "num_bb_nodes, num_subtour_constrs, num_conn_comp = 16 1 5\n",
      "num_bb_nodes, num_subtour_constrs, num_conn_comp = 32 2 4\n",
      "num_bb_nodes, num_subtour_constrs, num_conn_comp = 64 2 4\n",
      "num_bb_nodes, num_subtour_constrs, num_conn_comp = 128 2 4\n",
      "num_bb_nodes, num_subtour_constrs, num_conn_comp = 256 3 4\n",
      "num_bb_nodes, num_subtour_constrs, num_conn_comp = 512 3 4\n",
      "num_bb_nodes, num_subtour_constrs, num_conn_comp = 1024 3 3\n",
      "num_bb_nodes, num_subtour_constrs, num_conn_comp = 2048 4 2\n",
      "num_bb_nodes, num_subtour_constrs, num_conn_comp = 4096 4 4\n",
      "Found a solution with this many subtours: 5\n",
      "Specifically, they are:\n",
      "[2, 3, 14, 12, 15, 6, 7]\n",
      "[8, 1, 5]\n",
      "[12, 15, 6, 7]\n",
      "[2, 6, 7, 12, 14, 15]\n",
      "[1, 4, 5, 8, 13, 16]\n",
      "S_family =  [[2, 3, 14, 12, 15, 6, 7], [8, 1, 5], [12, 15, 6, 7], [2, 6, 7, 12, 14, 15], [1, 4, 5, 8, 13, 16]]\n",
      "******* Instance: ulysses22 *******\n",
      "num_bb_nodes, num_subtour_constrs, num_conn_comp = 1 0 6\n",
      "num_bb_nodes, num_subtour_constrs, num_conn_comp = 2 1 5\n",
      "num_bb_nodes, num_subtour_constrs, num_conn_comp = 4 1 5\n",
      "num_bb_nodes, num_subtour_constrs, num_conn_comp = 8 1 5\n",
      "num_bb_nodes, num_subtour_constrs, num_conn_comp = 16 1 5\n",
      "num_bb_nodes, num_subtour_constrs, num_conn_comp = 32 1 5\n",
      "num_bb_nodes, num_subtour_constrs, num_conn_comp = 64 2 4\n",
      "num_bb_nodes, num_subtour_constrs, num_conn_comp = 128 2 5\n",
      "num_bb_nodes, num_subtour_constrs, num_conn_comp = 256 2 4\n",
      "num_bb_nodes, num_subtour_constrs, num_conn_comp = 512 3 3\n",
      "num_bb_nodes, num_subtour_constrs, num_conn_comp = 1024 3 3\n",
      "num_bb_nodes, num_subtour_constrs, num_conn_comp = 2048 3 3\n",
      "num_bb_nodes, num_subtour_constrs, num_conn_comp = 4096 3 4\n",
      "num_bb_nodes, num_subtour_constrs, num_conn_comp = 8192 4 3\n",
      "num_bb_nodes, num_subtour_constrs, num_conn_comp = 16384 4 5\n",
      "num_bb_nodes, num_subtour_constrs, num_conn_comp = 32768 4 4\n",
      "Found a solution with this many subtours: 5\n",
      "Specifically, they are:\n",
      "[0, 7, 15, 16, 1, 2, 17, 3, 21]\n",
      "[16, 1, 2]\n",
      "[1, 2, 3, 16, 17, 21]\n",
      "[18, 19, 20, 4, 5, 6, 8, 9, 10, 14]\n",
      "[0, 1, 2, 3, 7, 16, 17, 21]\n",
      "S_family =  [[0, 7, 15, 16, 1, 2, 17, 3, 21], [16, 1, 2], [1, 2, 3, 16, 17, 21], [18, 19, 20, 4, 5, 6, 8, 9, 10, 14], [0, 1, 2, 3, 7, 16, 17, 21]]\n",
      "******* Instance: fri26 *******\n",
      "num_bb_nodes, num_subtour_constrs, num_conn_comp = 1 0 7\n",
      "num_bb_nodes, num_subtour_constrs, num_conn_comp = 2 1 7\n",
      "num_bb_nodes, num_subtour_constrs, num_conn_comp = 4 1 7\n",
      "num_bb_nodes, num_subtour_constrs, num_conn_comp = 8 1 7\n",
      "num_bb_nodes, num_subtour_constrs, num_conn_comp = 16 1 6\n",
      "num_bb_nodes, num_subtour_constrs, num_conn_comp = 32 1 6\n",
      "num_bb_nodes, num_subtour_constrs, num_conn_comp = 64 1 7\n",
      "num_bb_nodes, num_subtour_constrs, num_conn_comp = 128 2 5\n",
      "num_bb_nodes, num_subtour_constrs, num_conn_comp = 256 2 7\n",
      "num_bb_nodes, num_subtour_constrs, num_conn_comp = 512 2 5\n",
      "num_bb_nodes, num_subtour_constrs, num_conn_comp = 1024 2 6\n",
      "num_bb_nodes, num_subtour_constrs, num_conn_comp = 2048 2 7\n",
      "num_bb_nodes, num_subtour_constrs, num_conn_comp = 4096 3 7\n",
      "num_bb_nodes, num_subtour_constrs, num_conn_comp = 8192 3 5\n",
      "num_bb_nodes, num_subtour_constrs, num_conn_comp = 16384 3 5\n",
      "num_bb_nodes, num_subtour_constrs, num_conn_comp = 32768 3 6\n",
      "num_bb_nodes, num_subtour_constrs, num_conn_comp = 65536 3 5\n",
      "num_bb_nodes, num_subtour_constrs, num_conn_comp = 131072 3 6\n",
      "Found a solution with this many subtours: 4\n",
      "Specifically, they are:\n",
      "[0, 4, 5, 1, 2, 3, 6, 7, 8, 9, 10]\n",
      "[1, 2, 3]\n",
      "[20, 21, 22]\n",
      "[11, 12, 13, 14, 15, 16]\n",
      "S_family =  [[0, 4, 5, 1, 2, 3, 6, 7, 8, 9, 10], [1, 2, 3], [20, 21, 22], [11, 12, 13, 14, 15, 16]]\n",
      "******* Instance: bayg29 *******\n",
      "num_bb_nodes, num_subtour_constrs, num_conn_comp = 1 0 3\n",
      "num_bb_nodes, num_subtour_constrs, num_conn_comp = 2 1 3\n",
      "num_bb_nodes, num_subtour_constrs, num_conn_comp = 4 1 3\n",
      "num_bb_nodes, num_subtour_constrs, num_conn_comp = 8 2 2\n",
      "num_bb_nodes, num_subtour_constrs, num_conn_comp = 16 3 2\n",
      "Found a solution with this many subtours: 4\n",
      "Specifically, they are:\n",
      "[10, 13, 16, 17, 21]\n",
      "[16, 17, 21, 13]\n",
      "[25, 2, 28]\n",
      "[0, 1, 2, 4, 5, 8, 11, 20, 25, 27, 28]\n",
      "S_family =  [[10, 13, 16, 17, 21], [16, 17, 21, 13], [25, 2, 28], [0, 1, 2, 4, 5, 8, 11, 20, 25, 27, 28]]\n",
      "******* Instance: bays29 *******\n",
      "num_bb_nodes, num_subtour_constrs, num_conn_comp = 1 0 4\n",
      "num_bb_nodes, num_subtour_constrs, num_conn_comp = 2 1 3\n",
      "num_bb_nodes, num_subtour_constrs, num_conn_comp = 4 1 3\n",
      "num_bb_nodes, num_subtour_constrs, num_conn_comp = 8 1 3\n",
      "num_bb_nodes, num_subtour_constrs, num_conn_comp = 16 2 2\n",
      "num_bb_nodes, num_subtour_constrs, num_conn_comp = 32 3 3\n",
      "num_bb_nodes, num_subtour_constrs, num_conn_comp = 64 3 2\n",
      "num_bb_nodes, num_subtour_constrs, num_conn_comp = 128 4 2\n",
      "Found a solution with this many subtours: 5\n",
      "Specifically, they are:\n",
      "[12, 15, 23]\n",
      "[16, 17, 21, 13]\n",
      "[10, 13, 14, 16, 17, 21]\n",
      "[25, 2, 28]\n",
      "[0, 1, 2, 4, 5, 8, 11, 20, 25, 27, 28]\n",
      "S_family =  [[12, 15, 23], [16, 17, 21, 13], [10, 13, 14, 16, 17, 21], [25, 2, 28], [0, 1, 2, 4, 5, 8, 11, 20, 25, 27, 28]]\n",
      "******* Instance: swiss42 *******\n",
      "num_bb_nodes, num_subtour_constrs, num_conn_comp = 1 0 7\n",
      "num_bb_nodes, num_subtour_constrs, num_conn_comp = 2 1 5\n",
      "num_bb_nodes, num_subtour_constrs, num_conn_comp = 4 1 10\n",
      "num_bb_nodes, num_subtour_constrs, num_conn_comp = 8 1 5\n",
      "num_bb_nodes, num_subtour_constrs, num_conn_comp = 16 1 5\n",
      "num_bb_nodes, num_subtour_constrs, num_conn_comp = 32 1 5\n",
      "num_bb_nodes, num_subtour_constrs, num_conn_comp = 64 1 5\n",
      "num_bb_nodes, num_subtour_constrs, num_conn_comp = 128 2 10\n",
      "num_bb_nodes, num_subtour_constrs, num_conn_comp = 256 2 6\n",
      "num_bb_nodes, num_subtour_constrs, num_conn_comp = 512 2 10\n",
      "num_bb_nodes, num_subtour_constrs, num_conn_comp = 1024 2 8\n",
      "num_bb_nodes, num_subtour_constrs, num_conn_comp = 2048 2 8\n",
      "Found a solution with this many subtours: 3\n",
      "Specifically, they are:\n",
      "[17, 35, 36, 31]\n",
      "[33, 34, 20]\n",
      "[24, 40, 21]\n",
      "S_family =  [[17, 35, 36, 31], [33, 34, 20], [24, 40, 21]]\n",
      "******* Instance: dantzig42 *******\n",
      "num_bb_nodes, num_subtour_constrs, num_conn_comp = 1 0 8\n",
      "num_bb_nodes, num_subtour_constrs, num_conn_comp = 2 1 2\n",
      "num_bb_nodes, num_subtour_constrs, num_conn_comp = 4 1 6\n",
      "num_bb_nodes, num_subtour_constrs, num_conn_comp = 8 1 8\n",
      "num_bb_nodes, num_subtour_constrs, num_conn_comp = 16 1 8\n",
      "num_bb_nodes, num_subtour_constrs, num_conn_comp = 32 1 6\n",
      "num_bb_nodes, num_subtour_constrs, num_conn_comp = 64 1 8\n",
      "num_bb_nodes, num_subtour_constrs, num_conn_comp = 128 1 6\n",
      "num_bb_nodes, num_subtour_constrs, num_conn_comp = 256 2 3\n",
      "num_bb_nodes, num_subtour_constrs, num_conn_comp = 512 2 3\n",
      "num_bb_nodes, num_subtour_constrs, num_conn_comp = 1024 2 4\n",
      "num_bb_nodes, num_subtour_constrs, num_conn_comp = 2048 2 3\n",
      "num_bb_nodes, num_subtour_constrs, num_conn_comp = 4096 2 6\n",
      "num_bb_nodes, num_subtour_constrs, num_conn_comp = 8192 2 3\n",
      "num_bb_nodes, num_subtour_constrs, num_conn_comp = 16384 3 3\n",
      "num_bb_nodes, num_subtour_constrs, num_conn_comp = 32768 3 2\n"
     ]
    }
   ],
   "execution_count": null
  },
  {
   "metadata": {},
   "cell_type": "markdown",
   "source": "Now, we print the table as reported in the paper",
   "id": "410d4080c99827ee"
  },
  {
   "metadata": {
    "jupyter": {
     "is_executing": true
    }
   },
   "cell_type": "code",
   "source": [
    "print(\"instance\\t\\tn\\t\\tS_min\")\n",
    "print(\"------------------------------------------------\")\n",
    "for instance_name, n in tsplib_instances:\n",
    "    print(f\"{instance_name}\\t\\t{n}\\t\\t{out[instance_name]}\")"
   ],
   "id": "bd6e69ac0039cf4e",
   "outputs": [],
   "execution_count": null
  },
  {
   "metadata": {},
   "cell_type": "markdown",
   "source": [
    "## HardTSPLIB instances\n",
    "\n",
    "HardTSPLIB is made of instances generated both at random and starting from instances of the TSPLIB. Unfortunately, we were not able to run the algorithm on the instances generated from TSPLIB. We will only run the algorithm on the instances that are feasible to run on our machine, namely, small random instances. If you want to test other instances, just add them to the `hardtsplib_instances` list at position 0."
   ],
   "id": "9167ba735311c4d2"
  },
  {
   "metadata": {
    "jupyter": {
     "is_executing": true
    }
   },
   "cell_type": "code",
   "source": "hardtsplib_instances = [(\"10007_hard\", 10), (\"10010_hard\", 10), (\"10008_hard\", 10), (\"10001_hard\", 10), (\"11675_hard\", 11), (\"12290_hard\", 12), (\"14850_hard\", 14), (\"15005_hard\", 15), (\"15002_hard\", 15), (\"15007_hard\", 15), (\"16038_hard\", 16)]",
   "id": "6a06e886de1f0d90",
   "outputs": [],
   "execution_count": null
  },
  {
   "metadata": {
    "jupyter": {
     "is_executing": true
    }
   },
   "cell_type": "code",
   "source": [
    "# Store the values in a dictionary\n",
    "out = {}"
   ],
   "id": "7a598e98f1507234",
   "outputs": [],
   "execution_count": null
  },
  {
   "metadata": {
    "jupyter": {
     "is_executing": true
    }
   },
   "cell_type": "code",
   "source": [
    "for instance_name, n in tsplib_instances:\n",
    "    # Parse the instance\n",
    "    G = from_tsplib_file_to_graph(\"./data/\" + instance_name)\n",
    "    print(\"******* Instance:\", instance_name, \"*******\")\n",
    "    S_family, S_num = ialg(G, verbose=True)\n",
    "    out[instance_name] = S_num"
   ],
   "id": "c634e8f971ada745",
   "outputs": [],
   "execution_count": null
  },
  {
   "metadata": {
    "jupyter": {
     "is_executing": true
    }
   },
   "cell_type": "code",
   "source": [
    "print(\"instance\\t\\tn\\t\\tS_min\")\n",
    "print(\"------------------------------------------------\")\n",
    "for instance_name, n in tsplib_instances:\n",
    "    print(f\"{instance_name}\\t\\t{n}\\t\\t{out[instance_name]}\")"
   ],
   "id": "bc2321d8792d225b",
   "outputs": [],
   "execution_count": null
  }
 ],
 "metadata": {
  "kernelspec": {
   "display_name": "Python 3",
   "language": "python",
   "name": "python3"
  },
  "language_info": {
   "codemirror_mode": {
    "name": "ipython",
    "version": 2
   },
   "file_extension": ".py",
   "mimetype": "text/x-python",
   "name": "python",
   "nbconvert_exporter": "python",
   "pygments_lexer": "ipython2",
   "version": "2.7.6"
  }
 },
 "nbformat": 4,
 "nbformat_minor": 5
}
