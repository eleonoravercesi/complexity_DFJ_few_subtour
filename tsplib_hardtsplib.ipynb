{
 "cells": [
  {
   "metadata": {},
   "cell_type": "markdown",
   "source": [
    "# Running the `ialg` algorithm on the TSPLIB and the HardTSPLIB instances\n",
    "\n",
    "Here, we want to compute the minimum number of SECs needed to prove optimality for some small famous instances in the TSPLIB [1] and some hard-to-solve instances in the HardTSPLIB [2]. We will use the `ialg` algorithm to compute the minimum number of SECs needed to prove optimality for these instances.\n",
    "\n",
    "### References\n",
    "[1] Reinelt, Gerhard. \"TSPLIB—A traveling salesman problem library.\" ORSA journal on computing 3.4 (1991): 376-384.\n",
    "\n",
    "[2] Vercesi, Eleonora, et al. \"On the generation of metric TSP instances with a large integrality gap by branch-and-cut.\" Mathematical Programming Computation 15.2 (2023): 389-416.\n"
   ],
   "id": "852d979afd5d209c"
  },
  {
   "metadata": {
    "ExecuteTime": {
     "end_time": "2024-08-08T13:21:14.825424Z",
     "start_time": "2024-08-08T13:21:14.823798Z"
    }
   },
   "cell_type": "code",
   "source": [
    "from utils import ialg, from_tsplib_file_to_graph\n",
    "import pandas as pd"
   ],
   "id": "155b32edd5b85417",
   "outputs": [],
   "execution_count": 23
  },
  {
   "metadata": {},
   "cell_type": "markdown",
   "source": [
    "## TSPLIB instances\n",
    "\n",
    "These are the instances we were able to conduct the experiment on. Bigger instances were not feasible to run on our machine. If you want to test other instances, just add them to the `tsplib_instances` list at position 0."
   ],
   "id": "f2f7a195137104a9"
  },
  {
   "metadata": {
    "ExecuteTime": {
     "end_time": "2024-08-08T13:21:14.829488Z",
     "start_time": "2024-08-08T13:21:14.826202Z"
    }
   },
   "cell_type": "code",
   "source": "tsplib_instances = [(\"burma14\", 14), (\"ulysses16\", 16), (\"gr17\", 17), (\"ulysses22\", 22), (\"fri26\", 29), (\"bayg29\", 29), (\"bays29\", 29), (\"swiss42\", 42), (\"dantzig42\", 42)]",
   "id": "d9ffd74696b830dc",
   "outputs": [],
   "execution_count": 24
  },
  {
   "metadata": {
    "ExecuteTime": {
     "end_time": "2024-08-08T13:21:14.847563Z",
     "start_time": "2024-08-08T13:21:14.846020Z"
    }
   },
   "cell_type": "code",
   "source": [
    "# Store the values in a dictionary\n",
    "out = {}"
   ],
   "id": "d13ffff855b8c0da",
   "outputs": [],
   "execution_count": 25
  },
  {
   "metadata": {},
   "cell_type": "markdown",
   "source": "Now, we run the `ialg` algorithm on the TSPLIB instances. Unfortunately, this may take a while",
   "id": "ed41b98b5f0754fa"
  },
  {
   "metadata": {
    "ExecuteTime": {
     "end_time": "2024-08-08T14:11:34.612999Z",
     "start_time": "2024-08-08T13:21:14.876545Z"
    }
   },
   "cell_type": "code",
   "source": [
    "for instance_name, n in tsplib_instances:\n",
    "    # Parse the instance\n",
    "    G = from_tsplib_file_to_graph(\"./data/\" + instance_name)\n",
    "    print(\"******* Instance:\", instance_name, \"*******\")\n",
    "    S_family, S_num = ialg(G, verbose=True)\n",
    "    out[instance_name] = S_num"
   ],
   "id": "aef3ecd7abca123e",
   "outputs": [
    {
     "name": "stdout",
     "output_type": "stream",
     "text": [
      "******* Instance: burma14 *******\n",
      "num_bb_nodes, num_subtour_constrs, num_conn_comp = 1 0 3\n",
      "num_bb_nodes, num_subtour_constrs, num_conn_comp = 2 1 2\n",
      "num_bb_nodes, num_subtour_constrs, num_conn_comp = 4 1 2\n",
      "Found a solution with this many subtours: 2\n",
      "Specifically, they are:\n",
      "[0, 1, 7, 8, 9, 10]\n",
      "[8, 9, 10]\n",
      "S_family =  [[0, 1, 7, 8, 9, 10], [8, 9, 10]]\n",
      "******* Instance: ulysses16 *******\n",
      "num_bb_nodes, num_subtour_constrs, num_conn_comp = 1 0 4\n",
      "num_bb_nodes, num_subtour_constrs, num_conn_comp = 2 1 3\n",
      "num_bb_nodes, num_subtour_constrs, num_conn_comp = 4 1 3\n",
      "num_bb_nodes, num_subtour_constrs, num_conn_comp = 8 1 3\n",
      "num_bb_nodes, num_subtour_constrs, num_conn_comp = 16 2 3\n",
      "num_bb_nodes, num_subtour_constrs, num_conn_comp = 32 3 2\n",
      "num_bb_nodes, num_subtour_constrs, num_conn_comp = 64 3 2\n",
      "Found a solution with this many subtours: 4\n",
      "Specifically, they are:\n",
      "[0, 7, 15, 1, 2, 3]\n",
      "[1, 2, 3]\n",
      "[0, 1, 2, 3, 7]\n",
      "[4, 5, 6, 8, 9, 10, 14]\n",
      "S_family =  [[0, 7, 15, 1, 2, 3], [1, 2, 3], [0, 1, 2, 3, 7], [4, 5, 6, 8, 9, 10, 14]]\n",
      "******* Instance: gr17 *******\n",
      "num_bb_nodes, num_subtour_constrs, num_conn_comp = 1 0 5\n",
      "num_bb_nodes, num_subtour_constrs, num_conn_comp = 2 1 5\n",
      "num_bb_nodes, num_subtour_constrs, num_conn_comp = 4 1 4\n",
      "num_bb_nodes, num_subtour_constrs, num_conn_comp = 8 1 4\n",
      "num_bb_nodes, num_subtour_constrs, num_conn_comp = 16 1 5\n",
      "num_bb_nodes, num_subtour_constrs, num_conn_comp = 32 2 4\n",
      "num_bb_nodes, num_subtour_constrs, num_conn_comp = 64 2 4\n",
      "num_bb_nodes, num_subtour_constrs, num_conn_comp = 128 2 4\n",
      "num_bb_nodes, num_subtour_constrs, num_conn_comp = 256 3 4\n",
      "num_bb_nodes, num_subtour_constrs, num_conn_comp = 512 3 4\n",
      "num_bb_nodes, num_subtour_constrs, num_conn_comp = 1024 3 3\n",
      "num_bb_nodes, num_subtour_constrs, num_conn_comp = 2048 4 2\n",
      "num_bb_nodes, num_subtour_constrs, num_conn_comp = 4096 4 4\n",
      "Found a solution with this many subtours: 5\n",
      "Specifically, they are:\n",
      "[2, 3, 14, 12, 15, 6, 7]\n",
      "[8, 1, 5]\n",
      "[12, 15, 6, 7]\n",
      "[2, 6, 7, 12, 14, 15]\n",
      "[1, 4, 5, 8, 13, 16]\n",
      "S_family =  [[2, 3, 14, 12, 15, 6, 7], [8, 1, 5], [12, 15, 6, 7], [2, 6, 7, 12, 14, 15], [1, 4, 5, 8, 13, 16]]\n",
      "******* Instance: ulysses22 *******\n",
      "num_bb_nodes, num_subtour_constrs, num_conn_comp = 1 0 6\n",
      "num_bb_nodes, num_subtour_constrs, num_conn_comp = 2 1 5\n",
      "num_bb_nodes, num_subtour_constrs, num_conn_comp = 4 1 5\n",
      "num_bb_nodes, num_subtour_constrs, num_conn_comp = 8 1 5\n",
      "num_bb_nodes, num_subtour_constrs, num_conn_comp = 16 1 5\n",
      "num_bb_nodes, num_subtour_constrs, num_conn_comp = 32 1 5\n",
      "num_bb_nodes, num_subtour_constrs, num_conn_comp = 64 2 4\n",
      "num_bb_nodes, num_subtour_constrs, num_conn_comp = 128 2 5\n",
      "num_bb_nodes, num_subtour_constrs, num_conn_comp = 256 2 4\n",
      "num_bb_nodes, num_subtour_constrs, num_conn_comp = 512 3 3\n",
      "num_bb_nodes, num_subtour_constrs, num_conn_comp = 1024 3 3\n",
      "num_bb_nodes, num_subtour_constrs, num_conn_comp = 2048 3 3\n",
      "num_bb_nodes, num_subtour_constrs, num_conn_comp = 4096 3 4\n",
      "num_bb_nodes, num_subtour_constrs, num_conn_comp = 8192 4 3\n",
      "num_bb_nodes, num_subtour_constrs, num_conn_comp = 16384 4 5\n",
      "num_bb_nodes, num_subtour_constrs, num_conn_comp = 32768 4 4\n",
      "Found a solution with this many subtours: 5\n",
      "Specifically, they are:\n",
      "[0, 7, 15, 16, 1, 2, 17, 3, 21]\n",
      "[16, 1, 2]\n",
      "[1, 2, 3, 16, 17, 21]\n",
      "[18, 19, 20, 4, 5, 6, 8, 9, 10, 14]\n",
      "[0, 1, 2, 3, 7, 16, 17, 21]\n",
      "S_family =  [[0, 7, 15, 16, 1, 2, 17, 3, 21], [16, 1, 2], [1, 2, 3, 16, 17, 21], [18, 19, 20, 4, 5, 6, 8, 9, 10, 14], [0, 1, 2, 3, 7, 16, 17, 21]]\n",
      "******* Instance: fri26 *******\n",
      "num_bb_nodes, num_subtour_constrs, num_conn_comp = 1 0 7\n",
      "num_bb_nodes, num_subtour_constrs, num_conn_comp = 2 1 7\n",
      "num_bb_nodes, num_subtour_constrs, num_conn_comp = 4 1 7\n",
      "num_bb_nodes, num_subtour_constrs, num_conn_comp = 8 1 7\n",
      "num_bb_nodes, num_subtour_constrs, num_conn_comp = 16 1 6\n",
      "num_bb_nodes, num_subtour_constrs, num_conn_comp = 32 1 6\n",
      "num_bb_nodes, num_subtour_constrs, num_conn_comp = 64 1 7\n",
      "num_bb_nodes, num_subtour_constrs, num_conn_comp = 128 2 5\n",
      "num_bb_nodes, num_subtour_constrs, num_conn_comp = 256 2 7\n",
      "num_bb_nodes, num_subtour_constrs, num_conn_comp = 512 2 5\n",
      "num_bb_nodes, num_subtour_constrs, num_conn_comp = 1024 2 6\n",
      "num_bb_nodes, num_subtour_constrs, num_conn_comp = 2048 2 7\n",
      "num_bb_nodes, num_subtour_constrs, num_conn_comp = 4096 3 7\n",
      "num_bb_nodes, num_subtour_constrs, num_conn_comp = 8192 3 5\n",
      "num_bb_nodes, num_subtour_constrs, num_conn_comp = 16384 3 5\n",
      "num_bb_nodes, num_subtour_constrs, num_conn_comp = 32768 3 6\n",
      "num_bb_nodes, num_subtour_constrs, num_conn_comp = 65536 3 5\n",
      "num_bb_nodes, num_subtour_constrs, num_conn_comp = 131072 3 6\n",
      "Found a solution with this many subtours: 4\n",
      "Specifically, they are:\n",
      "[0, 4, 5, 1, 2, 3, 6, 7, 8, 9, 10]\n",
      "[1, 2, 3]\n",
      "[20, 21, 22]\n",
      "[11, 12, 13, 14, 15, 16]\n",
      "S_family =  [[0, 4, 5, 1, 2, 3, 6, 7, 8, 9, 10], [1, 2, 3], [20, 21, 22], [11, 12, 13, 14, 15, 16]]\n",
      "******* Instance: bayg29 *******\n",
      "num_bb_nodes, num_subtour_constrs, num_conn_comp = 1 0 3\n",
      "num_bb_nodes, num_subtour_constrs, num_conn_comp = 2 1 3\n",
      "num_bb_nodes, num_subtour_constrs, num_conn_comp = 4 1 3\n",
      "num_bb_nodes, num_subtour_constrs, num_conn_comp = 8 2 2\n",
      "num_bb_nodes, num_subtour_constrs, num_conn_comp = 16 3 2\n",
      "Found a solution with this many subtours: 4\n",
      "Specifically, they are:\n",
      "[10, 13, 16, 17, 21]\n",
      "[16, 17, 21, 13]\n",
      "[25, 2, 28]\n",
      "[0, 1, 2, 4, 5, 8, 11, 20, 25, 27, 28]\n",
      "S_family =  [[10, 13, 16, 17, 21], [16, 17, 21, 13], [25, 2, 28], [0, 1, 2, 4, 5, 8, 11, 20, 25, 27, 28]]\n",
      "******* Instance: bays29 *******\n",
      "num_bb_nodes, num_subtour_constrs, num_conn_comp = 1 0 4\n",
      "num_bb_nodes, num_subtour_constrs, num_conn_comp = 2 1 3\n",
      "num_bb_nodes, num_subtour_constrs, num_conn_comp = 4 1 3\n",
      "num_bb_nodes, num_subtour_constrs, num_conn_comp = 8 1 3\n",
      "num_bb_nodes, num_subtour_constrs, num_conn_comp = 16 2 2\n",
      "num_bb_nodes, num_subtour_constrs, num_conn_comp = 32 3 3\n",
      "num_bb_nodes, num_subtour_constrs, num_conn_comp = 64 3 2\n",
      "num_bb_nodes, num_subtour_constrs, num_conn_comp = 128 4 2\n",
      "Found a solution with this many subtours: 5\n",
      "Specifically, they are:\n",
      "[12, 15, 23]\n",
      "[16, 17, 21, 13]\n",
      "[10, 13, 14, 16, 17, 21]\n",
      "[25, 2, 28]\n",
      "[0, 1, 2, 4, 5, 8, 11, 20, 25, 27, 28]\n",
      "S_family =  [[12, 15, 23], [16, 17, 21, 13], [10, 13, 14, 16, 17, 21], [25, 2, 28], [0, 1, 2, 4, 5, 8, 11, 20, 25, 27, 28]]\n",
      "******* Instance: swiss42 *******\n",
      "num_bb_nodes, num_subtour_constrs, num_conn_comp = 1 0 7\n",
      "num_bb_nodes, num_subtour_constrs, num_conn_comp = 2 1 5\n",
      "num_bb_nodes, num_subtour_constrs, num_conn_comp = 4 1 10\n",
      "num_bb_nodes, num_subtour_constrs, num_conn_comp = 8 1 5\n",
      "num_bb_nodes, num_subtour_constrs, num_conn_comp = 16 1 5\n",
      "num_bb_nodes, num_subtour_constrs, num_conn_comp = 32 1 5\n",
      "num_bb_nodes, num_subtour_constrs, num_conn_comp = 64 1 5\n",
      "num_bb_nodes, num_subtour_constrs, num_conn_comp = 128 2 10\n",
      "num_bb_nodes, num_subtour_constrs, num_conn_comp = 256 2 6\n",
      "num_bb_nodes, num_subtour_constrs, num_conn_comp = 512 2 10\n",
      "num_bb_nodes, num_subtour_constrs, num_conn_comp = 1024 2 8\n",
      "num_bb_nodes, num_subtour_constrs, num_conn_comp = 2048 2 8\n",
      "Found a solution with this many subtours: 3\n",
      "Specifically, they are:\n",
      "[17, 35, 36, 31]\n",
      "[33, 34, 20]\n",
      "[24, 40, 21]\n",
      "S_family =  [[17, 35, 36, 31], [33, 34, 20], [24, 40, 21]]\n",
      "******* Instance: dantzig42 *******\n",
      "num_bb_nodes, num_subtour_constrs, num_conn_comp = 1 0 8\n",
      "num_bb_nodes, num_subtour_constrs, num_conn_comp = 2 1 2\n",
      "num_bb_nodes, num_subtour_constrs, num_conn_comp = 4 1 6\n",
      "num_bb_nodes, num_subtour_constrs, num_conn_comp = 8 1 8\n",
      "num_bb_nodes, num_subtour_constrs, num_conn_comp = 16 1 8\n",
      "num_bb_nodes, num_subtour_constrs, num_conn_comp = 32 1 6\n",
      "num_bb_nodes, num_subtour_constrs, num_conn_comp = 64 1 8\n",
      "num_bb_nodes, num_subtour_constrs, num_conn_comp = 128 1 6\n",
      "num_bb_nodes, num_subtour_constrs, num_conn_comp = 256 2 3\n",
      "num_bb_nodes, num_subtour_constrs, num_conn_comp = 512 2 3\n",
      "num_bb_nodes, num_subtour_constrs, num_conn_comp = 1024 2 4\n",
      "num_bb_nodes, num_subtour_constrs, num_conn_comp = 2048 2 3\n",
      "num_bb_nodes, num_subtour_constrs, num_conn_comp = 4096 2 6\n",
      "num_bb_nodes, num_subtour_constrs, num_conn_comp = 8192 2 3\n",
      "num_bb_nodes, num_subtour_constrs, num_conn_comp = 16384 3 3\n",
      "num_bb_nodes, num_subtour_constrs, num_conn_comp = 32768 3 2\n",
      "num_bb_nodes, num_subtour_constrs, num_conn_comp = 65536 3 4\n",
      "num_bb_nodes, num_subtour_constrs, num_conn_comp = 131072 3 4\n",
      "Found a solution with this many subtours: 4\n",
      "Specifically, they are:\n",
      "[0, 1, 40, 41]\n",
      "[19, 20, 21, 22, 23, 24, 25, 26, 27, 28, 29]\n",
      "[19, 20, 21, 22, 23, 24, 25, 26, 27, 28, 29, 30, 31]\n",
      "[16, 17, 18, 15]\n",
      "S_family =  [[0, 1, 40, 41], [19, 20, 21, 22, 23, 24, 25, 26, 27, 28, 29], [19, 20, 21, 22, 23, 24, 25, 26, 27, 28, 29, 30, 31], [16, 17, 18, 15]]\n"
     ]
    }
   ],
   "execution_count": 26
  },
  {
   "metadata": {},
   "cell_type": "markdown",
   "source": "Now, we print the table as reported in the paper",
   "id": "410d4080c99827ee"
  },
  {
   "metadata": {
    "ExecuteTime": {
     "end_time": "2024-08-08T14:11:34.618001Z",
     "start_time": "2024-08-08T14:11:34.613606Z"
    }
   },
   "cell_type": "code",
   "source": [
    "# Create a dataframe out of the dictionary out\n",
    "df = pd.DataFrame(out.items(), columns=[\"instance\", \"S_min\"])\n",
    "# Print the dataframe\n",
    "df"
   ],
   "id": "bd6e69ac0039cf4e",
   "outputs": [
    {
     "data": {
      "text/plain": [
       "    instance  S_min\n",
       "0    burma14      2\n",
       "1  ulysses16      4\n",
       "2       gr17      5\n",
       "3  ulysses22      5\n",
       "4      fri26      4\n",
       "5     bayg29      4\n",
       "6     bays29      5\n",
       "7    swiss42      3\n",
       "8  dantzig42      4"
      ],
      "text/html": [
       "<div>\n",
       "<style scoped>\n",
       "    .dataframe tbody tr th:only-of-type {\n",
       "        vertical-align: middle;\n",
       "    }\n",
       "\n",
       "    .dataframe tbody tr th {\n",
       "        vertical-align: top;\n",
       "    }\n",
       "\n",
       "    .dataframe thead th {\n",
       "        text-align: right;\n",
       "    }\n",
       "</style>\n",
       "<table border=\"1\" class=\"dataframe\">\n",
       "  <thead>\n",
       "    <tr style=\"text-align: right;\">\n",
       "      <th></th>\n",
       "      <th>instance</th>\n",
       "      <th>S_min</th>\n",
       "    </tr>\n",
       "  </thead>\n",
       "  <tbody>\n",
       "    <tr>\n",
       "      <th>0</th>\n",
       "      <td>burma14</td>\n",
       "      <td>2</td>\n",
       "    </tr>\n",
       "    <tr>\n",
       "      <th>1</th>\n",
       "      <td>ulysses16</td>\n",
       "      <td>4</td>\n",
       "    </tr>\n",
       "    <tr>\n",
       "      <th>2</th>\n",
       "      <td>gr17</td>\n",
       "      <td>5</td>\n",
       "    </tr>\n",
       "    <tr>\n",
       "      <th>3</th>\n",
       "      <td>ulysses22</td>\n",
       "      <td>5</td>\n",
       "    </tr>\n",
       "    <tr>\n",
       "      <th>4</th>\n",
       "      <td>fri26</td>\n",
       "      <td>4</td>\n",
       "    </tr>\n",
       "    <tr>\n",
       "      <th>5</th>\n",
       "      <td>bayg29</td>\n",
       "      <td>4</td>\n",
       "    </tr>\n",
       "    <tr>\n",
       "      <th>6</th>\n",
       "      <td>bays29</td>\n",
       "      <td>5</td>\n",
       "    </tr>\n",
       "    <tr>\n",
       "      <th>7</th>\n",
       "      <td>swiss42</td>\n",
       "      <td>3</td>\n",
       "    </tr>\n",
       "    <tr>\n",
       "      <th>8</th>\n",
       "      <td>dantzig42</td>\n",
       "      <td>4</td>\n",
       "    </tr>\n",
       "  </tbody>\n",
       "</table>\n",
       "</div>"
      ]
     },
     "execution_count": 27,
     "metadata": {},
     "output_type": "execute_result"
    }
   ],
   "execution_count": 27
  },
  {
   "metadata": {},
   "cell_type": "markdown",
   "source": [
    "## HardTSPLIB instances\n",
    "\n",
    "HardTSPLIB is made of instances generated both at random and starting from instances of the TSPLIB. Unfortunately, we were not able to run the algorithm on the instances generated from TSPLIB. We will only run the algorithm on the instances that are feasible to run on our machine, namely, small random instances. If you want to test other instances, just add them to the `hardtsplib_instances` list at position 0."
   ],
   "id": "9167ba735311c4d2"
  },
  {
   "metadata": {
    "ExecuteTime": {
     "end_time": "2024-08-08T14:11:34.620566Z",
     "start_time": "2024-08-08T14:11:34.618675Z"
    }
   },
   "cell_type": "code",
   "source": "hardtsplib_instances = [(\"10007_hard\", 10), (\"10010_hard\", 10), (\"10008_hard\", 10), (\"10001_hard\", 10), (\"11675_hard\", 11), (\"12290_hard\", 12), (\"14850_hard\", 14), (\"15005_hard\", 15), (\"15002_hard\", 15), (\"15007_hard\", 15), (\"16038_hard\", 16)]",
   "id": "6a06e886de1f0d90",
   "outputs": [],
   "execution_count": 28
  },
  {
   "metadata": {
    "ExecuteTime": {
     "end_time": "2024-08-08T14:11:34.622352Z",
     "start_time": "2024-08-08T14:11:34.621190Z"
    }
   },
   "cell_type": "code",
   "source": [
    "# Store the values in a dictionary\n",
    "out = {}"
   ],
   "id": "7a598e98f1507234",
   "outputs": [],
   "execution_count": 29
  },
  {
   "metadata": {
    "jupyter": {
     "is_executing": true
    },
    "ExecuteTime": {
     "start_time": "2024-08-08T14:18:08.686385Z"
    }
   },
   "cell_type": "code",
   "source": [
    "for instance_name, n in hardtsplib_instances:\n",
    "    # Parse the instance\n",
    "    G = from_tsplib_file_to_graph(\"./data/\" + instance_name)\n",
    "    print(\"******* Instance:\", instance_name, \"*******\")\n",
    "    S_family, S_num = ialg(G, verbose=True)\n",
    "    out[instance_name] = S_num"
   ],
   "id": "c634e8f971ada745",
   "outputs": [
    {
     "name": "stdout",
     "output_type": "stream",
     "text": [
      "******* Instance: 10007_hard *******\n",
      "num_bb_nodes, num_subtour_constrs, num_conn_comp = 1 0 2\n",
      "num_bb_nodes, num_subtour_constrs, num_conn_comp = 2 1 2\n",
      "num_bb_nodes, num_subtour_constrs, num_conn_comp = 4 3 2\n",
      "Found a solution with this many subtours: 6\n",
      "Specifically, they are:\n",
      "[0, 9, 3, 7]\n",
      "[8, 1, 2, 6]\n",
      "[8, 1, 6]\n",
      "[0, 9, 7]\n",
      "[8, 2, 6]\n",
      "[0, 9, 3]\n",
      "S_family =  [[0, 9, 3, 7], [8, 1, 2, 6], [8, 1, 6], [0, 9, 7], [8, 2, 6], [0, 9, 3]]\n",
      "******* Instance: 10010_hard *******\n",
      "num_bb_nodes, num_subtour_constrs, num_conn_comp = 1 0 2\n",
      "num_bb_nodes, num_subtour_constrs, num_conn_comp = 2 1 2\n",
      "num_bb_nodes, num_subtour_constrs, num_conn_comp = 4 3 2\n",
      "Found a solution with this many subtours: 7\n",
      "Specifically, they are:\n",
      "[2, 4, 5]\n",
      "[0, 3, 6, 7]\n",
      "[0, 3, 6, 7, 8]\n",
      "[3, 6, 7]\n",
      "[8, 6, 7]\n",
      "[8, 3, 6, 7]\n",
      "[0, 3, 7]\n",
      "S_family =  [[2, 4, 5], [0, 3, 6, 7], [0, 3, 6, 7, 8], [3, 6, 7], [8, 6, 7], [8, 3, 6, 7], [0, 3, 7]]\n",
      "******* Instance: 10008_hard *******\n",
      "num_bb_nodes, num_subtour_constrs, num_conn_comp = 1 0 2\n",
      "num_bb_nodes, num_subtour_constrs, num_conn_comp = 2 1 2\n",
      "num_bb_nodes, num_subtour_constrs, num_conn_comp = 4 3 2\n",
      "Found a solution with this many subtours: 7\n",
      "Specifically, they are:\n",
      "[2, 3, 7]\n",
      "[0, 1, 4, 5, 8]\n",
      "[8, 1, 4, 5]\n",
      "[8, 1, 4]\n",
      "[0, 1, 5]\n",
      "[1, 4, 5]\n",
      "[0, 1, 4, 5]\n",
      "S_family =  [[2, 3, 7], [0, 1, 4, 5, 8], [8, 1, 4, 5], [8, 1, 4], [0, 1, 5], [1, 4, 5], [0, 1, 4, 5]]\n",
      "******* Instance: 10001_hard *******\n",
      "num_bb_nodes, num_subtour_constrs, num_conn_comp = 1 0 2\n",
      "num_bb_nodes, num_subtour_constrs, num_conn_comp = 2 1 2\n",
      "num_bb_nodes, num_subtour_constrs, num_conn_comp = 4 3 2\n",
      "Found a solution with this many subtours: 7\n",
      "Specifically, they are:\n",
      "[2, 6, 7]\n",
      "[0, 8, 9, 1]\n",
      "[8, 1, 9]\n",
      "[0, 1, 9]\n",
      "[0, 1, 5, 8, 9]\n",
      "[0, 1, 5, 9]\n",
      "[0, 9, 5]\n",
      "S_family =  [[2, 6, 7], [0, 8, 9, 1], [8, 1, 9], [0, 1, 9], [0, 1, 5, 8, 9], [0, 1, 5, 9], [0, 9, 5]]\n",
      "******* Instance: 11675_hard *******\n",
      "num_bb_nodes, num_subtour_constrs, num_conn_comp = 1 0 2\n",
      "num_bb_nodes, num_subtour_constrs, num_conn_comp = 2 1 2\n",
      "num_bb_nodes, num_subtour_constrs, num_conn_comp = 4 3 2\n",
      "num_bb_nodes, num_subtour_constrs, num_conn_comp = 8 7 2\n",
      "Found a solution with this many subtours: 8\n",
      "Specifically, they are:\n",
      "[8, 5, 6]\n",
      "[0, 9, 7]\n",
      "[3, 2, 10]\n",
      "[10, 2, 3, 4]\n",
      "[2, 10, 4]\n",
      "[10, 1, 2, 3]\n",
      "[1, 2, 3, 4, 10]\n",
      "[1, 2, 3]\n",
      "S_family =  [[8, 5, 6], [0, 9, 7], [3, 2, 10], [10, 2, 3, 4], [2, 10, 4], [10, 1, 2, 3], [1, 2, 3, 4, 10], [1, 2, 3]]\n",
      "******* Instance: 12290_hard *******\n",
      "num_bb_nodes, num_subtour_constrs, num_conn_comp = 1 0 3\n",
      "num_bb_nodes, num_subtour_constrs, num_conn_comp = 2 1 2\n",
      "num_bb_nodes, num_subtour_constrs, num_conn_comp = 4 1 2\n",
      "num_bb_nodes, num_subtour_constrs, num_conn_comp = 8 3 2\n",
      "num_bb_nodes, num_subtour_constrs, num_conn_comp = 16 5 2\n",
      "num_bb_nodes, num_subtour_constrs, num_conn_comp = 32 11 2\n",
      "Found a solution with this many subtours: 13\n",
      "Specifically, they are:\n",
      "[0, 2, 5, 9, 10, 11]\n",
      "[0, 10, 11, 5]\n",
      "[0, 11, 5]\n",
      "[0, 10, 11]\n",
      "[1, 3, 4, 7, 8]\n",
      "[8, 1, 7]\n",
      "[3, 4, 6]\n",
      "[8, 3, 4, 6]\n",
      "[8, 1, 4, 7]\n",
      "[1, 3, 4, 6, 8]\n",
      "[8, 3, 4]\n",
      "[8, 1, 3, 4]\n",
      "[8, 1, 4]\n",
      "S_family =  [[0, 2, 5, 9, 10, 11], [0, 10, 11, 5], [0, 11, 5], [0, 10, 11], [1, 3, 4, 7, 8], [8, 1, 7], [3, 4, 6], [8, 3, 4, 6], [8, 1, 4, 7], [1, 3, 4, 6, 8], [8, 3, 4], [8, 1, 3, 4], [8, 1, 4]]\n",
      "******* Instance: 14850_hard *******\n",
      "num_bb_nodes, num_subtour_constrs, num_conn_comp = 1 0 2\n",
      "num_bb_nodes, num_subtour_constrs, num_conn_comp = 2 1 2\n",
      "num_bb_nodes, num_subtour_constrs, num_conn_comp = 4 3 3\n",
      "num_bb_nodes, num_subtour_constrs, num_conn_comp = 8 5 3\n",
      "num_bb_nodes, num_subtour_constrs, num_conn_comp = 16 5 2\n",
      "num_bb_nodes, num_subtour_constrs, num_conn_comp = 32 6 2\n",
      "num_bb_nodes, num_subtour_constrs, num_conn_comp = 64 8 2\n",
      "num_bb_nodes, num_subtour_constrs, num_conn_comp = 128 9 2\n",
      "num_bb_nodes, num_subtour_constrs, num_conn_comp = 256 13 2\n"
     ]
    }
   ],
   "execution_count": null
  },
  {
   "metadata": {
    "ExecuteTime": {
     "start_time": "2024-08-08T14:11:34.640553Z"
    }
   },
   "cell_type": "code",
   "source": [
    "# Create a dataframe out of the dictionary out\n",
    "df = pd.DataFrame(out.items(), columns=[\"instance\", \"S_min\"])\n",
    "# Print the dataframe\n",
    "df"
   ],
   "id": "bc2321d8792d225b",
   "outputs": [],
   "execution_count": null
  }
 ],
 "metadata": {
  "kernelspec": {
   "display_name": "Python 3",
   "language": "python",
   "name": "python3"
  },
  "language_info": {
   "codemirror_mode": {
    "name": "ipython",
    "version": 2
   },
   "file_extension": ".py",
   "mimetype": "text/x-python",
   "name": "python",
   "nbconvert_exporter": "python",
   "pygments_lexer": "ipython2",
   "version": "2.7.6"
  }
 },
 "nbformat": 4,
 "nbformat_minor": 5
}
