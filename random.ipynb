{
 "cells": [
  {
   "cell_type": "markdown",
   "id": "d0cc7960db37c3d",
   "metadata": {},
   "source": [
    "# Distribution of minimum number of SECs for random instances"
   ]
  },
  {
   "cell_type": "markdown",
   "id": "518bf42339feca80",
   "metadata": {},
   "source": [
    "In this notebook, we will analyze the distribution of the minimum number of SECs for random instances. \n",
    "We analyzed three types of random instances:\n",
    "- Random instances where the costs are drawn at random from a uniform distribution (non metric)\n",
    "- Random instances where the costs are drawn at random from an exponential distribution (non metric)\n",
    "- Random instances in the euclidean plane where the points are drawn at random from a uniform distribution (metric)\n",
    "The behavior of the minimum number of SECs is quite different for these three types of random instances and will be analyzed using boxplots.\n",
    "\n",
    "First we import the necessary libraries as well as the function for generating random instances."
   ]
  },
  {
   "cell_type": "code",
   "execution_count": 1,
   "id": "b2fdafb0983b9dca",
   "metadata": {
    "ExecuteTime": {
     "end_time": "2024-08-19T06:29:02.814378Z",
     "start_time": "2024-08-19T06:29:02.402761Z"
    }
   },
   "outputs": [],
   "source": [
    "from utils import sample\n",
    "from ialg import ialg\n",
    "import numpy as np\n",
    "import matplotlib.pyplot as plt\n",
    "from tqdm import tqdm"
   ]
  },
  {
   "cell_type": "markdown",
   "id": "28cd6b2efd523910",
   "metadata": {},
   "source": [
    "## Random instances where the costs are drawn at random from a uniform distribution"
   ]
  },
  {
   "cell_type": "code",
   "execution_count": 6,
   "id": "5721902f640fbc38",
   "metadata": {
    "ExecuteTime": {
     "end_time": "2024-08-19T06:29:04.954928Z",
     "start_time": "2024-08-19T06:29:04.953302Z"
    }
   },
   "outputs": [],
   "source": [
    "n_min = 10\n",
    "n_max = 100 # You can increase this value as you want, but it will take more time\n",
    "step = 10\n",
    "n_samples_for_each_n = 100 # This is the value we used in the paper\n",
    "# With the parameters in the paper, it should run for less than 20minutes.\n",
    "# Feel free to change them"
   ]
  },
  {
   "cell_type": "code",
   "execution_count": 9,
   "id": "39c3f4791a05246d",
   "metadata": {
    "ExecuteTime": {
     "end_time": "2024-08-19T06:29:08.377104Z",
     "start_time": "2024-08-19T06:29:08.202767Z"
    }
   },
   "outputs": [
    {
     "name": "stderr",
     "output_type": "stream",
     "text": [
      "100%|█████████████████████████████████████████████████████████████████████████████████████████████████████████████████████████████████████████████████████████████████████████████████████| 10/10 [18:01<00:00, 108.18s/it]\n"
     ]
    }
   ],
   "source": [
    "out = {}\n",
    "for n in tqdm(range(n_min, n_max + 1, step)):\n",
    "    out[n] = []\n",
    "    for i in range(n_samples_for_each_n):\n",
    "        np.random.seed(n*i) # To ensure reproducibility\n",
    "        # Sample n points in the unit square\n",
    "        G = sample(n, \"uniform\")\n",
    "        S_family, S_num, partitions, max_comp = ialg(G) # Here, we do not use verbosity, as the line printed will be too much\n",
    "        out[n].append((S_family, S_num, partitions, max_comp))"
   ]
  },
  {
   "cell_type": "markdown",
   "id": "305da159d1fad456",
   "metadata": {},
   "source": [
    "### Minimum number of subtour elimination constraints to prove optimality.\n",
    "\n",
    "First, we analyze the empirical distribution of the minimum number of SECs needed to prove optimality. We do it trough boxplots"
   ]
  },
  {
   "cell_type": "code",
   "execution_count": 11,
   "id": "cd838a0f8cb7baef",
   "metadata": {},
   "outputs": [
    {
     "name": "stdout",
     "output_type": "stream",
     "text": [
      "\\addplot+ [thick, boxplot prepared={lower whisker=0, lower quartile=0.0,median=0.0, upper quartile=1.0,upper whisker=2.5}] coordinates {};\n",
      "\\addplot+ [thick, boxplot prepared={lower whisker=0, lower quartile=0.0,median=1.0, upper quartile=1.0,upper whisker=2.5}] coordinates {};\n",
      "\\addplot+ [thick, boxplot prepared={lower whisker=0, lower quartile=0.0,median=1.0, upper quartile=1.0,upper whisker=2.5}] coordinates {};\n",
      "\\addplot+ [thick, boxplot prepared={lower whisker=0, lower quartile=0.0,median=1.0, upper quartile=2.0,upper whisker=5.0}] coordinates {};\n",
      "\\addplot+ [thick, boxplot prepared={lower whisker=0, lower quartile=0.0,median=1.0, upper quartile=2.0,upper whisker=5.0}] coordinates {};\n",
      "\\addplot+ [thick, boxplot prepared={lower whisker=0, lower quartile=1.0,median=1.0, upper quartile=2.0,upper whisker=3.5}] coordinates {};\n",
      "\\addplot+ [thick, boxplot prepared={lower whisker=0, lower quartile=1.0,median=2.0, upper quartile=3.0,upper whisker=6.0}] coordinates {};\n",
      "\\addplot+ [thick, boxplot prepared={lower whisker=0, lower quartile=1.0,median=1.0, upper quartile=2.25,upper whisker=4.125}] coordinates {};\n",
      "\\addplot+ [thick, boxplot prepared={lower whisker=0, lower quartile=0.0,median=2.0, upper quartile=2.25,upper whisker=5.625}] coordinates {};\n",
      "\\addplot+ [thick, boxplot prepared={lower whisker=0, lower quartile=1.0,median=1.0, upper quartile=2.0,upper whisker=3.5}] coordinates {};\n"
     ]
    },
    {
     "data": {
      "image/png": "[encoded data removed]",
      "text/plain": [
       "<Figure size 640x480 with 1 Axes>"
      ]
     },
     "metadata": {},
     "output_type": "display_data"
    }
   ],
   "source": [
    "plt.figure()\n",
    "for n in range(n_min, n_max + 1, step):\n",
    "    x = [y[1] for y in out[n]]\n",
    "    # Make a boxplot ouf of x\n",
    "    bp = plt.boxplot(x, vert=True, patch_artist=True, positions=[n], widths=0.6, showfliers=False) # Just to make the boxplot more readable\n",
    "    # This part of code can ignored, but we used for the tkiz plot\n",
    "    median = np.median(x)\n",
    "    Q1 = np.percentile(x, 25)\n",
    "    Q3 = np.percentile(x, 75)\n",
    "    IQR = Q3 - Q1\n",
    "    LW = Q1 - 1.5*IQR\n",
    "    UW = Q3 + 1.5*IQR\n",
    "    print(f\"\\\\addplot+ [thick, boxplot prepared={{lower whisker={max(0, LW)}, lower quartile={Q1},median={median}, upper quartile={Q3},upper whisker={UW}}}] coordinates {{}};\")\n",
    "    for patch in bp['boxes']:\n",
    "        patch.set_facecolor('white')\n",
    "        patch.set_edgecolor('black')\n",
    "        for median in bp['medians']:\n",
    "            median.set(color='black', linewidth=2)\n",
    "plt.xlabel('Number of points')\n",
    "plt.ylabel('Number of SECs')\n",
    "plt.show()"
   ]
  },
  {
   "cell_type": "markdown",
   "id": "ee83e5e169eacdd7",
   "metadata": {},
   "source": [
    "## Random instances where the costs are drawn at random from an exponential distribution"
   ]
  },
  {
   "cell_type": "code",
   "execution_count": null,
   "id": "8b929bacc69a7b33",
   "metadata": {},
   "outputs": [],
   "source": [
    "n_min = 10\n",
    "n_max = 30 # You can increase this value as you want, but it will take more time\n",
    "step = 5\n",
    "n_samples_for_each_n = 60 # This is the value we used in the paper"
   ]
  },
  {
   "cell_type": "code",
   "execution_count": null,
   "id": "8b794a31d65568b1",
   "metadata": {},
   "outputs": [],
   "source": [
    "out = {}\n",
    "for n in tqdm(range(n_min, n_max + 1, step)):\n",
    "    out[n] = []\n",
    "    for i in range(n_samples_for_each_n):\n",
    "        np.random.seed(n*i) # To ensure reproducibility\n",
    "        # Sample n points in the unit square\n",
    "        G = sample(n, \"exponential\")\n",
    "        S_family, S_num = ialg(G) # Here, we do not use verbosity, as the line printed will be too much\n",
    "        out[n].append(S_num)"
   ]
  },
  {
   "cell_type": "code",
   "execution_count": null,
   "id": "7e4de3306cb189bd",
   "metadata": {},
   "outputs": [],
   "source": [
    "plt.figure()\n",
    "for n in range(n_min, n_max + 1, step):\n",
    "    x = out[n]\n",
    "    # Make a boxplot ouf of x\n",
    "    bp = plt.boxplot(x, vert=True, patch_artist=True, positions=[n], widths=0.6, showfliers=False) # Just to make the boxplot more readable\n",
    "    #This part of code can ignored, but we used for the tkiz plot\n",
    "    # median = np.median(x)\n",
    "    # Q1 = np.percentile(x, 25)\n",
    "    # Q3 = np.percentile(x, 75)\n",
    "    # IQR = Q3 - Q1\n",
    "    # LW = Q1 - 1.5*IQR\n",
    "    # UW = Q3 + 1.5*IQR\n",
    "    # print(f\"\\\\addplot+ [thick, boxplot prepared={{lower whisker={max(0, LW)}, lower quartile={Q1},median={median}, upper quartile={Q3},upper whisker={UW}}}] coordinates {{}};\")\n",
    "    for patch in bp['boxes']:\n",
    "        patch.set_facecolor('white')\n",
    "        patch.set_edgecolor('black')\n",
    "        for median in bp['medians']:\n",
    "            median.set(color='black', linewidth=2)\n",
    "plt.xlabel('Number of points')\n",
    "plt.ylabel('Number of SECs')\n",
    "plt.show()"
   ]
  },
  {
   "cell_type": "markdown",
   "id": "3b82c9cfa7dd966",
   "metadata": {},
   "source": [
    "## Random instances in the euclidean plane where the points are drawn at random from a uniform distribution\n",
    "\n",
    "In this case, run the `ialg` algorithm on bigger instances is much harder. Hence, we will analyze the distribution of the minimum number of SECs for smaller instances."
   ]
  },
  {
   "cell_type": "code",
   "execution_count": null,
   "id": "6afa80399caa7ff3",
   "metadata": {},
   "outputs": [],
   "source": [
    "n_min = 10\n",
    "n_max = 15 # You can increase this value as you want, but it will take more time\n",
    "step = 1\n",
    "n_samples_for_each_n = 60 # This is the value we used in the paper"
   ]
  },
  {
   "cell_type": "code",
   "execution_count": null,
   "id": "e81fcf17ea67e568",
   "metadata": {},
   "outputs": [],
   "source": [
    "out = {}\n",
    "for n in tqdm(range(n_min, n_max + 1, step)):\n",
    "    out[n] = []\n",
    "    for i in range(n_samples_for_each_n):\n",
    "        np.random.seed(n*i) # To ensure reproducibility\n",
    "        # Sample n points in the unit square\n",
    "        G = sample(n, \"uniform_points_in_unit_square\")\n",
    "        S_family, S_num = ialg(G) # Here, we do not use verbosity, as the line printed will be too much\n",
    "        out[n].append(S_num)"
   ]
  },
  {
   "cell_type": "code",
   "execution_count": null,
   "id": "acca78aaf2c44d66",
   "metadata": {},
   "outputs": [],
   "source": [
    "plt.figure()\n",
    "for n in range(n_min, n_max + 1, step):\n",
    "    x = out[n]\n",
    "    # Make a boxplot ouf of x\n",
    "    bp = plt.boxplot(x, vert=True, patch_artist=True, positions=[n], widths=0.6, showfliers=False) # Just to make the boxplot more readable\n",
    "    #This part of code can ignored, but we used for the tkiz plot\n",
    "    #median = np.median(x)\n",
    "    # Q1 = np.percentile(x, 25)\n",
    "    # Q3 = np.percentile(x, 75)\n",
    "    # IQR = Q3 - Q1\n",
    "    # LW = Q1 - 1.5*IQR\n",
    "    # UW = Q3 + 1.5*IQR\n",
    "    #print(f\"\\\\addplot+ [thick, boxplot prepared={{lower whisker={max(0, LW)}, lower quartile={Q1},median={median}, upper quartile={Q3},upper whisker={UW}}}] coordinates {{}};\")\n",
    "    for patch in bp['boxes']:\n",
    "        patch.set_facecolor('white')\n",
    "        patch.set_edgecolor('black')\n",
    "        for median in bp['medians']:\n",
    "            median.set(color='black', linewidth=2)\n",
    "plt.xlabel('Number of points')\n",
    "plt.ylabel('Number of SECs')\n",
    "plt.show()"
   ]
  }
 ],
 "metadata": {
  "kernelspec": {
   "display_name": "Python 3 (ipykernel)",
   "language": "python",
   "name": "python3"
  },
  "language_info": {
   "codemirror_mode": {
    "name": "ipython",
    "version": 3
   },
   "file_extension": ".py",
   "mimetype": "text/x-python",
   "name": "python",
   "nbconvert_exporter": "python",
   "pygments_lexer": "ipython3",
   "version": "3.10.4"
  }
 },
 "nbformat": 4,
 "nbformat_minor": 5
}
