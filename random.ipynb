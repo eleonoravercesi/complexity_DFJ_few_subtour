{
 "cells": [
  {
   "metadata": {},
   "cell_type": "markdown",
   "source": "# Distribution of minimum number of SECs for ranndom instances",
   "id": "d0cc7960db37c3d"
  },
  {
   "metadata": {},
   "cell_type": "markdown",
   "source": [
    "In this notebook, we will analyze the distribution of the minimum number of SECs for random instances. \n",
    "We analyzed three types of random instances:\n",
    "- Random instances where the costs are drawn at random from a uniform distribution (non metric)\n",
    "- Random instances where the costs are drawn at random from an exponential distribution (non metric)\n",
    "- Random instances in the euclidean plane where the points are drawn at random from a uniform distribution (metric)\n",
    "The behavior of the minimum number of SECs is quite different for these three types of random instances and will be analyzed using boxplots.\n",
    "\n",
    "First we import the necessary libraries as well as the function for generating random instances."
   ],
   "id": "518bf42339feca80"
  },
  {
   "metadata": {
    "ExecuteTime": {
     "end_time": "2024-08-08T12:06:44.861563Z",
     "start_time": "2024-08-08T12:06:44.860238Z"
    }
   },
   "cell_type": "code",
   "source": [
    "from utils import sample, ialg\n",
    "import numpy as np\n",
    "import matplotlib.pyplot as plt\n",
    "from tqdm import tqdm"
   ],
   "id": "b2fdafb0983b9dca",
   "outputs": [],
   "execution_count": 20
  },
  {
   "metadata": {},
   "cell_type": "markdown",
   "source": "## Random instances where the costs are drawn at random from a uniform distribution",
   "id": "28cd6b2efd523910"
  },
  {
   "metadata": {
    "ExecuteTime": {
     "end_time": "2024-08-08T12:06:44.863812Z",
     "start_time": "2024-08-08T12:06:44.862030Z"
    }
   },
   "cell_type": "code",
   "source": [
    "n_min = 10\n",
    "n_max = 30 # You can increase this value as you want, but it will take more time\n",
    "step = 5\n",
    "n_samples_for_each_n = 60 # This is the value we used in the paper"
   ],
   "id": "5721902f640fbc38",
   "outputs": [],
   "execution_count": 21
  },
  {
   "metadata": {
    "ExecuteTime": {
     "end_time": "2024-08-08T12:06:49.012183Z",
     "start_time": "2024-08-08T12:06:44.864263Z"
    }
   },
   "cell_type": "code",
   "source": [
    "out = {}\n",
    "for n in tqdm(range(n_min, n_max + 1, step)):\n",
    "    out[n] = []\n",
    "    for i in range(n_samples_for_each_n):\n",
    "        np.random.seed(n*i) # To ensure reproducibility\n",
    "        # Sample n points in the unit square\n",
    "        G = sample(n, \"uniform\")\n",
    "        S_family, S_num = ialg(G) # Here, we do not use verbosity, as the line printed will be too much\n",
    "        out[n].append(S_num)"
   ],
   "id": "39c3f4791a05246d",
   "outputs": [
    {
     "name": "stderr",
     "output_type": "stream",
     "text": [
      "\n",
      "  0%|          | 0/5 [00:00<?, ?it/s]\u001B[A\n",
      " 20%|██        | 1/5 [00:00<00:00,  7.56it/s]\u001B[A\n",
      " 40%|████      | 2/5 [00:00<00:00,  5.57it/s]\u001B[A\n",
      " 60%|██████    | 3/5 [00:01<00:00,  3.13it/s]\u001B[A\n",
      " 80%|████████  | 4/5 [00:02<00:00,  1.77it/s]\u001B[A\n",
      "100%|██████████| 5/5 [00:04<00:00,  1.02it/s]\u001B[A\n",
      "\u001B[A"
     ]
    }
   ],
   "execution_count": 22
  },
  {
   "metadata": {},
   "cell_type": "markdown",
   "source": "Results are presented in the following boxplot.",
   "id": "305da159d1fad456"
  },
  {
   "metadata": {
    "ExecuteTime": {
     "end_time": "2024-08-08T12:06:49.064105Z",
     "start_time": "2024-08-08T12:06:49.012693Z"
    }
   },
   "cell_type": "code",
   "source": [
    "plt.figure()\n",
    "for n in range(n_min, n_max + 1, step):\n",
    "    x = out[n]\n",
    "    # Make a boxplot ouf of x\n",
    "    bp = plt.boxplot(x, vert=True, patch_artist=True, positions=[n], widths=0.6, showfliers=False) # Just to make the boxplot more readable\n",
    "    # This part of code can ignored, but we used for the tkiz plot\n",
    "    # median = np.median(x)\n",
    "    # Q1 = np.percentile(x, 25)\n",
    "    # Q3 = np.percentile(x, 75)\n",
    "    # IQR = Q3 - Q1\n",
    "    # LW = Q1 - 1.5*IQR\n",
    "    # UW = Q3 + 1.5*IQR\n",
    "    #print(f\"\\\\addplot+ [thick, boxplot prepared={{lower whisker={max(0, LW)}, lower quartile={Q1},median={median}, upper quartile={Q3},upper whisker={UW}}}] coordinates {{}};\")\n",
    "    for patch in bp['boxes']:\n",
    "        patch.set_facecolor('white')\n",
    "        patch.set_edgecolor('black')\n",
    "        for median in bp['medians']:\n",
    "            median.set(color='black', linewidth=2)\n",
    "plt.xlabel('Number of points')\n",
    "plt.ylabel('Number of SECs')\n",
    "plt.show()"
   ],
   "id": "cd838a0f8cb7baef",
   "outputs": [
    {
     "data": {
      "text/plain": [
       "<Figure size 432x288 with 1 Axes>"
      ],
      "image/png": "[encoded data removed]"
     },
     "metadata": {
      "needs_background": "light"
     },
     "output_type": "display_data"
    }
   ],
   "execution_count": 23
  },
  {
   "metadata": {},
   "cell_type": "markdown",
   "source": "## Random instances where the costs are drawn at random from an exponential distribution",
   "id": "ee83e5e169eacdd7"
  },
  {
   "metadata": {
    "ExecuteTime": {
     "end_time": "2024-08-08T12:06:49.066044Z",
     "start_time": "2024-08-08T12:06:49.064611Z"
    }
   },
   "cell_type": "code",
   "source": [
    "n_min = 10\n",
    "n_max = 30 # You can increase this value as you want, but it will take more time\n",
    "step = 5\n",
    "n_samples_for_each_n = 60 # This is the value we used in the paper"
   ],
   "id": "8b929bacc69a7b33",
   "outputs": [],
   "execution_count": 24
  },
  {
   "metadata": {
    "ExecuteTime": {
     "end_time": "2024-08-08T12:06:53.334725Z",
     "start_time": "2024-08-08T12:06:49.066498Z"
    }
   },
   "cell_type": "code",
   "source": [
    "out = {}\n",
    "for n in tqdm(range(n_min, n_max + 1, step)):\n",
    "    out[n] = []\n",
    "    for i in range(n_samples_for_each_n):\n",
    "        np.random.seed(n*i) # To ensure reproducibility\n",
    "        # Sample n points in the unit square\n",
    "        G = sample(n, \"exponential\")\n",
    "        S_family, S_num = ialg(G) # Here, we do not use verbosity, as the line printed will be too much\n",
    "        out[n].append(S_num)"
   ],
   "id": "8b794a31d65568b1",
   "outputs": [
    {
     "name": "stderr",
     "output_type": "stream",
     "text": [
      "\n",
      "  0%|          | 0/5 [00:00<?, ?it/s]\u001B[A\n",
      " 20%|██        | 1/5 [00:00<00:00,  7.52it/s]\u001B[A\n",
      " 40%|████      | 2/5 [00:00<00:00,  5.51it/s]\u001B[A\n",
      " 60%|██████    | 3/5 [00:01<00:00,  2.80it/s]\u001B[A\n",
      " 80%|████████  | 4/5 [00:02<00:00,  1.64it/s]\u001B[A\n",
      "100%|██████████| 5/5 [00:04<00:00,  1.01it/s]\u001B[A\n",
      "\u001B[A"
     ]
    }
   ],
   "execution_count": 25
  },
  {
   "metadata": {
    "ExecuteTime": {
     "end_time": "2024-08-08T12:06:53.385237Z",
     "start_time": "2024-08-08T12:06:53.335253Z"
    }
   },
   "cell_type": "code",
   "source": [
    "plt.figure()\n",
    "for n in range(n_min, n_max + 1, step):\n",
    "    x = out[n]\n",
    "    # Make a boxplot ouf of x\n",
    "    bp = plt.boxplot(x, vert=True, patch_artist=True, positions=[n], widths=0.6, showfliers=False) # Just to make the boxplot more readable\n",
    "    #This part of code can ignored, but we used for the tkiz plot\n",
    "    # median = np.median(x)\n",
    "    # Q1 = np.percentile(x, 25)\n",
    "    # Q3 = np.percentile(x, 75)\n",
    "    # IQR = Q3 - Q1\n",
    "    # LW = Q1 - 1.5*IQR\n",
    "    # UW = Q3 + 1.5*IQR\n",
    "    # print(f\"\\\\addplot+ [thick, boxplot prepared={{lower whisker={max(0, LW)}, lower quartile={Q1},median={median}, upper quartile={Q3},upper whisker={UW}}}] coordinates {{}};\")\n",
    "    for patch in bp['boxes']:\n",
    "        patch.set_facecolor('white')\n",
    "        patch.set_edgecolor('black')\n",
    "        for median in bp['medians']:\n",
    "            median.set(color='black', linewidth=2)\n",
    "plt.xlabel('Number of points')\n",
    "plt.ylabel('Number of SECs')\n",
    "plt.show()"
   ],
   "id": "7e4de3306cb189bd",
   "outputs": [
    {
     "data": {
      "text/plain": [
       "<Figure size 432x288 with 1 Axes>"
      ],
      "image/png": "[encoded data removed]"
     },
     "metadata": {
      "needs_background": "light"
     },
     "output_type": "display_data"
    }
   ],
   "execution_count": 26
  },
  {
   "metadata": {},
   "cell_type": "markdown",
   "source": [
    "## Random instances in the euclidean plane where the points are drawn at random from a uniform distribution\n",
    "\n",
    "In this case, run the `ialg` algorithm on bigger instances is much harder. Hence, we will analyze the distribution of the minimum number of SECs for smaller instances."
   ],
   "id": "3b82c9cfa7dd966"
  },
  {
   "metadata": {
    "ExecuteTime": {
     "end_time": "2024-08-08T12:07:28.082212Z",
     "start_time": "2024-08-08T12:07:28.080524Z"
    }
   },
   "cell_type": "code",
   "source": [
    "n_min = 10\n",
    "n_max = 15 # You can increase this value as you want, but it will take more time\n",
    "step = 1\n",
    "n_samples_for_each_n = 60 # This is the value we used in the paper"
   ],
   "id": "6afa80399caa7ff3",
   "outputs": [],
   "execution_count": 30
  },
  {
   "metadata": {
    "ExecuteTime": {
     "end_time": "2024-08-08T12:07:49.489872Z",
     "start_time": "2024-08-08T12:07:29.766414Z"
    }
   },
   "cell_type": "code",
   "source": [
    "out = {}\n",
    "for n in tqdm(range(n_min, n_max + 1, step)):\n",
    "    out[n] = []\n",
    "    for i in range(n_samples_for_each_n):\n",
    "        np.random.seed(n*i) # To ensure reproducibility\n",
    "        # Sample n points in the unit square\n",
    "        G = sample(n, \"uniform_points_in_unit_square\")\n",
    "        S_family, S_num = ialg(G) # Here, we do not use verbosity, as the line printed will be too much\n",
    "        out[n].append(S_num)"
   ],
   "id": "e81fcf17ea67e568",
   "outputs": [
    {
     "name": "stderr",
     "output_type": "stream",
     "text": [
      "\n",
      "  0%|          | 0/6 [00:00<?, ?it/s]\u001B[A\n",
      " 17%|█▋        | 1/6 [00:00<00:01,  4.30it/s]\u001B[A\n",
      " 33%|███▎      | 2/6 [00:00<00:01,  3.25it/s]\u001B[A\n",
      " 50%|█████     | 3/6 [00:01<00:01,  2.87it/s]\u001B[A\n",
      " 67%|██████▋   | 4/6 [00:01<00:00,  2.33it/s]\u001B[A\n",
      " 83%|████████▎ | 5/6 [00:02<00:00,  1.69it/s]\u001B[A\n",
      "100%|██████████| 6/6 [00:19<00:00,  5.51s/it]\u001B[A\n",
      "\u001B[A"
     ]
    }
   ],
   "execution_count": 31
  },
  {
   "metadata": {
    "ExecuteTime": {
     "end_time": "2024-08-08T12:08:11.740875Z",
     "start_time": "2024-08-08T12:08:11.684105Z"
    }
   },
   "cell_type": "code",
   "source": [
    "plt.figure()\n",
    "for n in range(n_min, n_max + 1, step):\n",
    "    x = out[n]\n",
    "    # Make a boxplot ouf of x\n",
    "    bp = plt.boxplot(x, vert=True, patch_artist=True, positions=[n], widths=0.6, showfliers=False) # Just to make the boxplot more readable\n",
    "    #This part of code can ignored, but we used for the tkiz plot\n",
    "    #median = np.median(x)\n",
    "    # Q1 = np.percentile(x, 25)\n",
    "    # Q3 = np.percentile(x, 75)\n",
    "    # IQR = Q3 - Q1\n",
    "    # LW = Q1 - 1.5*IQR\n",
    "    # UW = Q3 + 1.5*IQR\n",
    "    #print(f\"\\\\addplot+ [thick, boxplot prepared={{lower whisker={max(0, LW)}, lower quartile={Q1},median={median}, upper quartile={Q3},upper whisker={UW}}}] coordinates {{}};\")\n",
    "    for patch in bp['boxes']:\n",
    "        patch.set_facecolor('white')\n",
    "        patch.set_edgecolor('black')\n",
    "        for median in bp['medians']:\n",
    "            median.set(color='black', linewidth=2)\n",
    "plt.xlabel('Number of points')\n",
    "plt.ylabel('Number of SECs')\n",
    "plt.show()"
   ],
   "id": "acca78aaf2c44d66",
   "outputs": [
    {
     "data": {
      "text/plain": [
       "<Figure size 432x288 with 1 Axes>"
      ],
      "image/png": "[encoded data removed]"
     },
     "metadata": {
      "needs_background": "light"
     },
     "output_type": "display_data"
    }
   ],
   "execution_count": 32
  }
 ],
 "metadata": {
  "kernelspec": {
   "display_name": "Python 3",
   "language": "python",
   "name": "python3"
  },
  "language_info": {
   "codemirror_mode": {
    "name": "ipython",
    "version": 2
   },
   "file_extension": ".py",
   "mimetype": "text/x-python",
   "name": "python",
   "nbconvert_exporter": "python",
   "pygments_lexer": "ipython2",
   "version": "2.7.6"
  }
 },
 "nbformat": 4,
 "nbformat_minor": 5
}
