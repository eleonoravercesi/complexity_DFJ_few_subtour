{
 "cells": [
  {
   "cell_type": "markdown",
   "id": "d0cc7960db37c3d",
   "metadata": {},
   "source": [
    "# Distribution of minimum number of SECs for random instances"
   ]
  },
  {
   "cell_type": "markdown",
   "id": "518bf42339feca80",
   "metadata": {},
   "source": [
    "In this notebook, we will analyze the distribution of the minimum number of SECs for random instances. \n",
    "We analyzed three types of random instances:\n",
    "- Random instances where the costs are drawn at random from a uniform distribution (non metric)\n",
    "- Random instances where the costs are drawn at random from an exponential distribution (non metric)\n",
    "- Random instances in the euclidean plane where the points are drawn at random from a uniform distribution (metric)\n",
    "The behavior of the minimum number of SECs is quite different for these three types of random instances and will be analyzed using boxplots.\n",
    "\n",
    "First we import the necessary libraries as well as the function for generating random instances."
   ]
  },
  {
   "cell_type": "code",
   "execution_count": 1,
   "id": "b2fdafb0983b9dca",
   "metadata": {
    "ExecuteTime": {
     "end_time": "2024-08-19T06:29:02.814378Z",
     "start_time": "2024-08-19T06:29:02.402761Z"
    }
   },
   "outputs": [],
   "source": [
    "from utils import sample\n",
    "from ialg import ialg\n",
    "import numpy as np\n",
    "import matplotlib.pyplot as plt\n",
    "from tqdm import tqdm\n",
    "import matplotlib.lines as mlines"
   ]
  },
  {
   "cell_type": "markdown",
   "id": "28cd6b2efd523910",
   "metadata": {},
   "source": [
    "## Random instances where the costs are drawn at random from a uniform distribution"
   ]
  },
  {
   "cell_type": "code",
   "execution_count": 33,
   "id": "5721902f640fbc38",
   "metadata": {
    "ExecuteTime": {
     "end_time": "2024-08-19T06:29:04.954928Z",
     "start_time": "2024-08-19T06:29:04.953302Z"
    }
   },
   "outputs": [],
   "source": [
    "n_min = 10\n",
    "n_max = 100 # You can increase this value as you want, but it will take more time\n",
    "step = 10\n",
    "n_samples_for_each_n = 100 # This is the value we used in the paper\n",
    "# With the parameters in the paper, it should run for less than 20minutes."
   ]
  },
  {
   "cell_type": "code",
   "execution_count": 34,
   "id": "ec2250f9-2feb-4201-a9be-90b2652fd2cc",
   "metadata": {
    "ExecuteTime": {
     "end_time": "2024-08-19T06:29:08.377104Z",
     "start_time": "2024-08-19T06:29:08.202767Z"
    }
   },
   "outputs": [
    {
     "name": "stderr",
     "output_type": "stream",
     "text": [
      " 30%|██████████████████████████████████████████████████████▉                                                                                                                                | 3/10 [00:16<00:38,  5.48s/it]\n"
     ]
    },
    {
     "ename": "KeyboardInterrupt",
     "evalue": "",
     "output_type": "error",
     "traceback": [
      "\u001B[0;31m---------------------------------------------------------------------------\u001B[0m",
      "\u001B[0;31mKeyboardInterrupt\u001B[0m                         Traceback (most recent call last)",
      "Cell \u001B[0;32mIn[34], line 10\u001B[0m\n\u001B[1;32m      8\u001B[0m \u001B[38;5;66;03m# Sample n points in the unit square\u001B[39;00m\n\u001B[1;32m      9\u001B[0m G \u001B[38;5;241m=\u001B[39m sample(n, \u001B[38;5;124m\"\u001B[39m\u001B[38;5;124muniform\u001B[39m\u001B[38;5;124m\"\u001B[39m)\n\u001B[0;32m---> 10\u001B[0m S_family, S_num, partitions, max_comp, runtime \u001B[38;5;241m=\u001B[39m \u001B[43mialg\u001B[49m\u001B[43m(\u001B[49m\u001B[43mG\u001B[49m\u001B[43m)\u001B[49m \u001B[38;5;66;03m# Here, we do not use verbosity, as the line printed will be too many\u001B[39;00m\n\u001B[1;32m     11\u001B[0m out[n]\u001B[38;5;241m.\u001B[39mappend((S_family, S_num, partitions, max_comp, runtime))\n",
      "File \u001B[0;32m~/Documents/complexity_DFJ_few_subtour/ialg.py:290\u001B[0m, in \u001B[0;36mialg\u001B[0;34m(G, minimalize, smart_initialize, partition_pool, verbose, time_limit)\u001B[0m\n\u001B[1;32m    288\u001B[0m     components \u001B[38;5;241m=\u001B[39m \u001B[38;5;28mlist\u001B[39m(nx\u001B[38;5;241m.\u001B[39mconnected_components(G\u001B[38;5;241m.\u001B[39medge_subgraph(tour_edges)))\n\u001B[1;32m    289\u001B[0m     \u001B[38;5;28;01mif\u001B[39;00m minimalize \u001B[38;5;129;01mand\u001B[39;00m \u001B[38;5;28mlen\u001B[39m(components) \u001B[38;5;241m>\u001B[39m \u001B[38;5;241m2\u001B[39m:\n\u001B[0;32m--> 290\u001B[0m         components \u001B[38;5;241m=\u001B[39m minimalize_partition(G, components, tsp_cost, verbose\u001B[38;5;241m=\u001B[39mverbose)\n\u001B[1;32m    292\u001B[0m num_comp \u001B[38;5;241m=\u001B[39m \u001B[38;5;28mlen\u001B[39m(components)\n\u001B[1;32m    293\u001B[0m max_comp \u001B[38;5;241m=\u001B[39m \u001B[38;5;28mmax\u001B[39m( max_comp, num_comp )\n",
      "File \u001B[0;32m~/Documents/complexity_DFJ_few_subtour/ialg.py:82\u001B[0m, in \u001B[0;36mminimalize_partition\u001B[0;34m(G, partition, tsp_cost, verbose)\u001B[0m\n\u001B[1;32m     79\u001B[0m             new_part \u001B[38;5;241m+\u001B[39m\u001B[38;5;241m=\u001B[39m partition[j]\n\u001B[1;32m     81\u001B[0m         cost \u001B[38;5;241m=\u001B[39m [ [ \u001B[38;5;241m0\u001B[39m \u001B[38;5;28;01mif\u001B[39;00m i\u001B[38;5;241m==\u001B[39mj \u001B[38;5;28;01melse\u001B[39;00m G\u001B[38;5;241m.\u001B[39medges[i,j][\u001B[38;5;124m'\u001B[39m\u001B[38;5;124mcost\u001B[39m\u001B[38;5;124m'\u001B[39m] \u001B[38;5;28;01mfor\u001B[39;00m j \u001B[38;5;129;01min\u001B[39;00m new_part ] \u001B[38;5;28;01mfor\u001B[39;00m i \u001B[38;5;129;01min\u001B[39;00m new_part ]\n\u001B[0;32m---> 82\u001B[0m         tour \u001B[38;5;241m=\u001B[39m \u001B[43melkai\u001B[49m\u001B[38;5;241;43m.\u001B[39;49m\u001B[43msolve_int_matrix\u001B[49m\u001B[43m(\u001B[49m\u001B[43mcost\u001B[49m\u001B[43m)\u001B[49m\n\u001B[1;32m     83\u001B[0m         lkh[\u001B[38;5;28mfrozenset\u001B[39m(J)] \u001B[38;5;241m=\u001B[39m tour_cost(tour,cost)\n\u001B[1;32m     85\u001B[0m \u001B[38;5;66;03m# use cached values, rather than re-computing from scratch\u001B[39;00m\n",
      "File \u001B[0;32m~/anaconda3/envs/why_tsp_easy/lib/python3.10/site-packages/elkai/deprecated.py:9\u001B[0m, in \u001B[0;36msolve_int_matrix\u001B[0;34m(matrix, runs, skip_end)\u001B[0m\n\u001B[1;32m      6\u001B[0m \u001B[38;5;250m\u001B[39m\u001B[38;5;124;03m\"\"\"[Deprecated] Given a 2D matrix of distances between cities, returns the indices of the cities ordered optimally for TSP.\"\"\"\u001B[39;00m\n\u001B[1;32m      8\u001B[0m flattened \u001B[38;5;241m=\u001B[39m utils\u001B[38;5;241m.\u001B[39mflatten_matrix(matrix)\n\u001B[0;32m----> 9\u001B[0m cities: List[\u001B[38;5;28mint\u001B[39m] \u001B[38;5;241m=\u001B[39m \u001B[43m_elkai\u001B[49m\u001B[38;5;241;43m.\u001B[39;49m\u001B[43m_deprecated_solve\u001B[49m\u001B[43m(\u001B[49m\u001B[43mflattened\u001B[49m\u001B[43m,\u001B[49m\u001B[43m \u001B[49m\u001B[43mruns\u001B[49m\u001B[43m)\u001B[49m\n\u001B[1;32m     10\u001B[0m \u001B[38;5;28;01mif\u001B[39;00m \u001B[38;5;129;01mnot\u001B[39;00m skip_end:\n\u001B[1;32m     11\u001B[0m     \u001B[38;5;66;03m# include the return to first city\u001B[39;00m\n\u001B[1;32m     12\u001B[0m     cities\u001B[38;5;241m.\u001B[39mappend(cities[\u001B[38;5;241m0\u001B[39m])\n",
      "\u001B[0;31mKeyboardInterrupt\u001B[0m: "
     ]
    }
   ],
   "source": [
    "out = {}\n",
    "seed = 0\n",
    "for n in tqdm(range(n_min, n_max + 1, step)):\n",
    "    out[n] = []\n",
    "    for i in range(n_samples_for_each_n):\n",
    "        np.random.seed(seed) # To ensure reproducibility\n",
    "        seed += 1\n",
    "        # Sample n points in the unit square\n",
    "        G = sample(n, \"uniform\")\n",
    "        S_family, S_num, partitions, max_comp, runtime = ialg(G) # Here, we do not use verbosity, as the line printed will be too many\n",
    "        out[n].append((S_family, S_num, partitions, max_comp, runtime))"
   ]
  },
  {
   "cell_type": "markdown",
   "id": "e3a5988f-b4cd-44d1-89ba-5b419d5c2969",
   "metadata": {},
   "source": [
    "### Minimum number of subtour elimination constraints to prove optimality.\n",
    "\n",
    "First, we analyze the empirical distribution of the minimum number of SECs needed to prove optimality. We do it trough boxplots"
   ]
  },
  {
   "cell_type": "code",
   "execution_count": null,
   "id": "cd838a0f8cb7baef",
   "metadata": {},
   "outputs": [],
   "source": [
    "plt.figure()\n",
    "for n in range(n_min, n_max + 1, step):\n",
    "    x = [y[1] for y in out[n]]\n",
    "    # Make a boxplot ouf of x\n",
    "    bp = plt.boxplot(x, vert=True, patch_artist=True, positions=[n], widths=0.6, showfliers=False) # Just to make the boxplot more readable\n",
    "    ## This part of code can ignored, but we used it for the tkiz plot\n",
    "    #median = np.median(x)\n",
    "    #Q1 = np.percentile(x, 25)\n",
    "    #Q3 = np.percentile(x, 75)\n",
    "    #IQR = Q3 - Q1\n",
    "    #LW = Q1 - 1.5*IQR\n",
    "    #UW = Q3 + 1.5*IQR\n",
    "    #print(f\"\\\\addplot+ [thick, boxplot prepared={{lower whisker={max(0, LW)}, lower quartile={Q1},median={median}, upper quartile={Q3},upper whisker={UW}}}] coordinates {{}};\")\n",
    "    for patch in bp['boxes']:\n",
    "        patch.set_facecolor('white')\n",
    "        patch.set_edgecolor('black')\n",
    "        for median in bp['medians']:\n",
    "            median.set(color='black', linewidth=2)\n",
    "plt.xlabel('Number of points')\n",
    "plt.show()"
   ]
  },
  {
   "cell_type": "markdown",
   "id": "4b22f3e4-80c3-4064-8d78-011f18b3e6fa",
   "metadata": {},
   "source": [
    "### Trend of $c$ vs $c'$\n",
    "\n",
    "In this part, we want to assess the impact of the flag `minimalize` when setting to either `True` or `False`. \n",
    "\n",
    "The previous part of the expriments was done using `minimalize=True`, so the only part left to analyze is `minimalize=False`."
   ]
  },
  {
   "cell_type": "code",
   "execution_count": null,
   "id": "d87b31b3-9cdd-4a5b-bb1c-e30d39e79ecb",
   "metadata": {},
   "outputs": [],
   "source": [
    "n_min = 10\n",
    "n_max = 100\n",
    "step = 10\n",
    "n_samples_for_each_n = 100"
   ]
  },
  {
   "cell_type": "code",
   "execution_count": null,
   "id": "755f3421-dca5-449b-a4ae-91bd53eaa967",
   "metadata": {},
   "outputs": [],
   "source": [
    "seed = 0\n",
    "out_minimalize_False = {}\n",
    "for n in tqdm(range(n_min, n_max + 1, step)):\n",
    "    out_minimalize_False[n] = []\n",
    "    for i in range(n_samples_for_each_n):\n",
    "        np.random.seed(seed) # To ensure reproducibility\n",
    "        seed += 1\n",
    "        # Sample n points in the unit square\n",
    "        G = sample(n, \"uniform\")\n",
    "        S_family, S_num, partitions, max_comp, runtime = ialg(G, minimalize=False)\n",
    "        out_minimalize_False[n].append((S_family, S_num, partitions, max_comp, runtime))"
   ]
  },
  {
   "cell_type": "markdown",
   "id": "1ae35823-a45a-4957-8767-54dadf32873a",
   "metadata": {},
   "source": [
    "Note that, globally, the procedure take more less time when minimalize is equal to `False`"
   ]
  },
  {
   "cell_type": "markdown",
   "id": "77c525d0-65af-4f1f-ba0e-acf39ade425c",
   "metadata": {},
   "source": [
    "We report the distribution of $c'$ and $c$ as two side-by-side boxplots"
   ]
  },
  {
   "cell_type": "code",
   "execution_count": 36,
   "id": "0efe5a25-fcd6-4935-9238-8286654c2f67",
   "metadata": {},
   "outputs": [
    {
     "name": "stderr",
     "output_type": "stream",
     "text": [
      "/tmp/ipykernel_1796597/2808116141.py:18: UserWarning: Legend does not support handles for str instances.\n",
      "A proxy artist may be used instead.\n",
      "See: https://matplotlib.org/stable/tutorials/intermediate/legend_guide.html#controlling-the-legend-entries\n",
      "  plt.legend([\"c\", \"c'\"], [\"black\", \"gray\"])\n"
     ]
    },
    {
     "data": {
      "image/png": "[encoded data removed]",
      "text/plain": [
       "<Figure size 640x480 with 1 Axes>"
      ]
     },
     "metadata": {},
     "output_type": "display_data"
    }
   ],
   "source": [
    "plt.figure()\n",
    "for n in range(n_min, n_max + 1, step):\n",
    "    x = [y[3] for y in out[n]]\n",
    "    x_minimalize_False = [y[3] for y in out_minimalize_False[n]]\n",
    "    bp = plt.boxplot(x, vert=True, patch_artist=True, positions=[n], widths=0.6, showfliers=False)\n",
    "    bp_minimalize_False = plt.boxplot(x_minimalize_False, vert=True, patch_artist=True, positions=[n + 1], widths=0.6, showfliers=False)\n",
    "    for patch in bp['boxes']:\n",
    "        patch.set_facecolor('white')\n",
    "        patch.set_edgecolor('black')\n",
    "        for median in bp['medians']:\n",
    "            median.set(color='black', linewidth=1)\n",
    "    for patch in bp_minimalize_False['boxes']:\n",
    "        patch.set_facecolor('gray')\n",
    "        patch.set_edgecolor('black')\n",
    "        for median in bp_minimalize_False['medians']:\n",
    "            median.set(color='black', linewidth=1)\n",
    "plt.xlabel('Number of points')\n",
    "plt.show()"
   ]
  },
  {
   "cell_type": "markdown",
   "id": "ee83e5e169eacdd7",
   "metadata": {},
   "source": [
    "## Random instances where the costs are drawn at random from an exponential distribution"
   ]
  },
  {
   "cell_type": "code",
   "execution_count": 12,
   "id": "0ac9475e-fa7d-4a06-a44c-ee3bb073f57f",
   "metadata": {},
   "outputs": [],
   "source": [
    "n_min = 10\n",
    "n_max = 100\n",
    "step = 10\n",
    "n_samples_for_each_n = 100"
   ]
  },
  {
   "cell_type": "code",
   "execution_count": 19,
   "id": "8b794a31d65568b1",
   "metadata": {},
   "outputs": [
    {
     "name": "stderr",
     "output_type": "stream",
     "text": [
      "100%|█████████████████████████████████████████████████████████████████████████████████████████████████████████████████████████████████████████████████████████████████████████████████████| 10/10 [17:45<00:00, 106.52s/it]\n"
     ]
    }
   ],
   "source": [
    "out = {}\n",
    "for n in tqdm(range(n_min, n_max + 1, step)):\n",
    "    out[n] = []\n",
    "    for i in range(n_samples_for_each_n):\n",
    "        np.random.seed(n*i) # To ensure reproducibility\n",
    "        # Sample n points in the unit square\n",
    "        G = sample(n, \"exponential\")\n",
    "        S_family, S_num, partitions, max_comp, runtime = ialg(G) # Here, we do not use verbosity, as the line printed will be too many\n",
    "        out[n].append((S_family, S_num, partitions, max_comp, runtime))"
   ]
  },
  {
   "cell_type": "code",
   "execution_count": 21,
   "id": "7e4de3306cb189bd",
   "metadata": {},
   "outputs": [
    {
     "name": "stdout",
     "output_type": "stream",
     "text": [
      "\\addplot+ [thick, boxplot prepared={lower whisker=0, lower quartile=0.0,median=0.0, upper quartile=1.0,upper whisker=2.5}] coordinates {};\n",
      "\\addplot+ [thick, boxplot prepared={lower whisker=0, lower quartile=0.0,median=1.0, upper quartile=1.0,upper whisker=2.5}] coordinates {};\n",
      "\\addplot+ [thick, boxplot prepared={lower whisker=0, lower quartile=0.0,median=1.0, upper quartile=1.0,upper whisker=2.5}] coordinates {};\n",
      "\\addplot+ [thick, boxplot prepared={lower whisker=0, lower quartile=0.0,median=1.0, upper quartile=2.0,upper whisker=5.0}] coordinates {};\n",
      "\\addplot+ [thick, boxplot prepared={lower whisker=0, lower quartile=0.0,median=1.0, upper quartile=2.0,upper whisker=5.0}] coordinates {};\n",
      "\\addplot+ [thick, boxplot prepared={lower whisker=0, lower quartile=1.0,median=1.0, upper quartile=2.0,upper whisker=3.5}] coordinates {};\n",
      "\\addplot+ [thick, boxplot prepared={lower whisker=0, lower quartile=1.0,median=2.0, upper quartile=3.0,upper whisker=6.0}] coordinates {};\n",
      "\\addplot+ [thick, boxplot prepared={lower whisker=0, lower quartile=1.0,median=2.0, upper quartile=3.0,upper whisker=6.0}] coordinates {};\n",
      "\\addplot+ [thick, boxplot prepared={lower whisker=0, lower quartile=0.0,median=1.0, upper quartile=2.25,upper whisker=5.625}] coordinates {};\n",
      "\\addplot+ [thick, boxplot prepared={lower whisker=0, lower quartile=1.0,median=1.0, upper quartile=3.0,upper whisker=6.0}] coordinates {};\n"
     ]
    },
    {
     "data": {
      "image/png": "[encoded data removed]",
      "text/plain": [
       "<Figure size 640x480 with 1 Axes>"
      ]
     },
     "metadata": {},
     "output_type": "display_data"
    }
   ],
   "source": [
    "plt.figure()\n",
    "for n in range(n_min, n_max + 1, step):\n",
    "    x = [y[1] for y in out[n]]\n",
    "    # Make a boxplot ouf of x\n",
    "    bp = plt.boxplot(x, vert=True, patch_artist=True, positions=[n], widths=0.6, showfliers=False) # Just to make the boxplot more readable\n",
    "    #This part of code can ignored, but we used for the tkiz plot\n",
    "    #median = np.median(x)\n",
    "    #Q1 = np.percentile(x, 25)\n",
    "    #Q3 = np.percentile(x, 75)\n",
    "    #IQR = Q3 - Q1\n",
    "    #LW = Q1 - 1.5*IQR\n",
    "    #UW = Q3 + 1.5*IQR\n",
    "    #print(f\"\\\\addplot+ [thick, boxplot prepared={{lower whisker={max(0, LW)}, lower quartile={Q1},median={median}, upper quartile={Q3},upper whisker={UW}}}] coordinates {{}};\")\n",
    "    for patch in bp['boxes']:\n",
    "        patch.set_facecolor('white')\n",
    "        patch.set_edgecolor('black')\n",
    "        for median in bp['medians']:\n",
    "            median.set(color='black', linewidth=2)\n",
    "plt.xlabel('Number of points')\n",
    "plt.ylabel('Number of SECs')\n",
    "plt.show()"
   ]
  },
  {
   "cell_type": "markdown",
   "id": "262e6fe2-16d1-4a5c-b753-ef6696fd5620",
   "metadata": {},
   "source": [
    "### Trend of $c$ vs $c'$\n",
    "\n",
    "In this part, we want to assess the impact of the flag `minimalize` when setting to either `True` or `False`. \n",
    "\n",
    "The previous part of the expriments was done using `minimalize=True`, so the only part left to analyze is `minimalize=False`."
   ]
  },
  {
   "cell_type": "code",
   "execution_count": 15,
   "id": "8b929bacc69a7b33",
   "metadata": {},
   "outputs": [],
   "source": [
    "n_min = 10\n",
    "n_max = 100 # You can increase this value as you want, but it will take more time\n",
    "step = 10\n",
    "n_samples_for_each_n = 100 # This is the value we used in the paper"
   ]
  },
  {
   "cell_type": "code",
   "execution_count": 22,
   "id": "80f7b463-d0ca-469f-8c8f-14add9437855",
   "metadata": {},
   "outputs": [
    {
     "name": "stdout",
     "output_type": "stream",
     "text": [
      "The history saving thread hit an unexpected error (OperationalError('attempt to write a readonly database')).History will not be written to the database."
     ]
    },
    {
     "name": "stderr",
     "output_type": "stream",
     "text": [
      "  0%|                                                                                                                                                                                               | 0/10 [00:00<?, ?it/s]"
     ]
    },
    {
     "name": "stdout",
     "output_type": "stream",
     "text": [
      "\n"
     ]
    },
    {
     "name": "stderr",
     "output_type": "stream",
     "text": [
      "100%|█████████████████████████████████████████████████████████████████████████████████████████████████████████████████████████████████████████████████████████████████████████████████████| 10/10 [28:29<00:00, 170.93s/it]\n"
     ]
    }
   ],
   "source": [
    "out_minimalize_False = {}\n",
    "for n in tqdm(range(n_min, n_max + 1, step)):\n",
    "    out_minimalize_False[n] = []\n",
    "    for i in range(n_samples_for_each_n):\n",
    "        np.random.seed(n*i) # To ensure reproducibility\n",
    "        # Sample n points in the unit square\n",
    "        G = sample(n, \"exponential\")\n",
    "        S_family, S_num, partitions, max_comp, runtime = ialg(G, minimalize=False)\n",
    "        out_minimalize_False[n].append((S_family, S_num, partitions, max_comp, runtime))"
   ]
  },
  {
   "cell_type": "markdown",
   "id": "d0613fc7-6951-41df-aaf9-2de0c7cbdfab",
   "metadata": {},
   "source": [
    "We report the distribution of $c$ and $c'$ as side by side boxplot"
   ]
  },
  {
   "cell_type": "code",
   "execution_count": 23,
   "id": "2d3efbac-f889-4092-8f5b-f200d3b652ac",
   "metadata": {},
   "outputs": [
    {
     "ename": "NameError",
     "evalue": "name 'mlines' is not defined",
     "output_type": "error",
     "traceback": [
      "\u001B[0;31m---------------------------------------------------------------------------\u001B[0m",
      "\u001B[0;31mNameError\u001B[0m                                 Traceback (most recent call last)",
      "Cell \u001B[0;32mIn[23], line 18\u001B[0m\n\u001B[1;32m     16\u001B[0m             median\u001B[38;5;241m.\u001B[39mset(color\u001B[38;5;241m=\u001B[39m\u001B[38;5;124m'\u001B[39m\u001B[38;5;124mblack\u001B[39m\u001B[38;5;124m'\u001B[39m, linewidth\u001B[38;5;241m=\u001B[39m\u001B[38;5;241m1\u001B[39m)\n\u001B[1;32m     17\u001B[0m plt\u001B[38;5;241m.\u001B[39mxlabel(\u001B[38;5;124m'\u001B[39m\u001B[38;5;124mNumber of points\u001B[39m\u001B[38;5;124m'\u001B[39m)\n\u001B[0;32m---> 18\u001B[0m with_minimalize \u001B[38;5;241m=\u001B[39m \u001B[43mmlines\u001B[49m\u001B[38;5;241m.\u001B[39mLine2D([], [], color\u001B[38;5;241m=\u001B[39m\u001B[38;5;124m'\u001B[39m\u001B[38;5;124mblack\u001B[39m\u001B[38;5;124m'\u001B[39m, ls\u001B[38;5;241m=\u001B[39m\u001B[38;5;124m'\u001B[39m\u001B[38;5;124m'\u001B[39m, label\u001B[38;5;241m=\u001B[39m\u001B[38;5;124m'\u001B[39m\u001B[38;5;124mminimalize=True\u001B[39m\u001B[38;5;124m'\u001B[39m)\n\u001B[1;32m     19\u001B[0m with_no_minimalize \u001B[38;5;241m=\u001B[39m mlines\u001B[38;5;241m.\u001B[39mLine2D([], [], color\u001B[38;5;241m=\u001B[39m\u001B[38;5;124m'\u001B[39m\u001B[38;5;124mgray\u001B[39m\u001B[38;5;124m'\u001B[39m, ls\u001B[38;5;241m=\u001B[39m\u001B[38;5;124m'\u001B[39m\u001B[38;5;124m'\u001B[39m, label\u001B[38;5;241m=\u001B[39m\u001B[38;5;124m'\u001B[39m\u001B[38;5;124mminimalize=False\u001B[39m\u001B[38;5;124m'\u001B[39m)\n\u001B[1;32m     20\u001B[0m \u001B[38;5;66;03m# etc etc\u001B[39;00m\n",
      "\u001B[0;31mNameError\u001B[0m: name 'mlines' is not defined"
     ]
    },
    {
     "data": {
      "image/png": "[encoded data removed]",
      "text/plain": [
       "<Figure size 640x480 with 1 Axes>"
      ]
     },
     "metadata": {},
     "output_type": "display_data"
    }
   ],
   "source": [
    "plt.figure()\n",
    "for n in range(n_min, n_max + 1, step):\n",
    "    x = [y[3] for y in out[n]]\n",
    "    x_minimalize_False = [y[3] for y in out_minimalize_False[n]]\n",
    "    bp = plt.boxplot(x, vert=True, patch_artist=True, positions=[n], widths=0.6, showfliers=False)\n",
    "    bp_minimalize_False = plt.boxplot(x_minimalize_False, vert=True, patch_artist=True, positions=[n + 1], widths=0.6, showfliers=False)\n",
    "    for patch in bp['boxes']:\n",
    "        patch.set_facecolor('white')\n",
    "        patch.set_edgecolor('black')\n",
    "        for median in bp['medians']:\n",
    "            median.set(color='black', linewidth=1)\n",
    "    for patch in bp_minimalize_False['boxes']:\n",
    "        patch.set_facecolor('gray')\n",
    "        patch.set_edgecolor('black')\n",
    "        for median in bp_minimalize_False['medians']:\n",
    "            median.set(color='black', linewidth=1)\n",
    "plt.xlabel('Number of points')\n",
    "with_minimalize = mlines.Line2D([], [], color='black', ls='', label='minimalize=True')\n",
    "with_no_minimalize = mlines.Line2D([], [], color='gray', ls='', label='minimalize=False')\n",
    "# etc etc\n",
    "plt.legend(handles=[with_minimalize, with_no_minimalize])\n",
    "plt.legend([\"c\", \"c'\"])\n",
    "plt.show()"
   ]
  },
  {
   "cell_type": "markdown",
   "id": "3b82c9cfa7dd966",
   "metadata": {},
   "source": [
    "## Random instances in the euclidean plane where the points are drawn at random from a uniform distribution\n",
    "\n",
    "In this case, run the `ialg` algorithm on bigger instances is much harder. Hence, we will analyze the distribution of the minimum number of SECs for smaller instances."
   ]
  },
  {
   "cell_type": "code",
   "execution_count": null,
   "id": "6afa80399caa7ff3",
   "metadata": {},
   "outputs": [],
   "source": [
    "n_min = 10\n",
    "n_max = 50 # You can increase this value as you want, but it will take more time\n",
    "step = 5\n",
    "n_samples_for_each_n = 100 # This is the value we used in the paper"
   ]
  },
  {
   "metadata": {},
   "cell_type": "markdown",
   "source": [
    "First, we\n",
    "analyze\n",
    "the\n",
    "empirical\n",
    "distribution\n",
    "of\n",
    "the\n",
    "minimum\n",
    "number\n",
    "of\n",
    "SECs\n",
    "needed\n",
    "to\n",
    "prove\n",
    "optimality.We\n",
    "do\n",
    "it\n",
    "trough\n",
    "boxplots"
   ],
   "id": "4293f00117c20608"
  },
  {
   "metadata": {},
   "cell_type": "code",
   "outputs": [],
   "execution_count": null,
   "source": [
    "out = {}\n",
    "seed = 0\n",
    "for n in tqdm(range(n_min, n_max + 1, step)):\n",
    "    out[n] = []\n",
    "    for i in range(n_samples_for_each_n):\n",
    "        np.random.seed(seed) # To ensure reproducibility\n",
    "        seed += 1\n",
    "        # Sample n points in the unit square\n",
    "        G = sample(n, \"uniform_points_in_unit_square\")\n",
    "        S_family, S_num, partitions, max_comp, runtime = ialg(G) # Here, we do not use verbosity, as the line printed will be too many\n",
    "        out[n].append((S_family, S_num, partitions, max_comp, runtime))"
   ],
   "id": "f5ad40340ffcd73c"
  },
  {
   "metadata": {},
   "cell_type": "code",
   "outputs": [],
   "execution_count": null,
   "source": [
    "plt.figure()\n",
    "for n in range(n_min, n_max + 1, step):\n",
    "    x = [y[1] for y in out[n]]\n",
    "    # Make a boxplot ouf of x\n",
    "    bp = plt.boxplot(x, vert=True, patch_artist=True, positions=[n], widths=0.6,\n",
    "                     showfliers=False)  # Just to make the boxplot more readable\n",
    "    ## This part of code can ignored, but we used it for the tkiz plot\n",
    "    #median = np.median(x)\n",
    "    #Q1 = np.percentile(x, 25)\n",
    "    #Q3 = np.percentile(x, 75)\n",
    "    #IQR = Q3 - Q1\n",
    "    #LW = Q1 - 1.5*IQR\n",
    "    #UW = Q3 + 1.5*IQR\n",
    "    #print(f\"\\\\addplot+ [thick, boxplot prepared={{lower whisker={max(0, LW)}, lower quartile={Q1},median={median}, upper quartile={Q3},upper whisker={UW}}}] coordinates {{}};\")\n",
    "    for patch in bp['boxes']:\n",
    "        patch.set_facecolor('white')\n",
    "        patch.set_edgecolor('black')\n",
    "        for median in bp['medians']:\n",
    "            median.set(color='black', linewidth=2)\n",
    "plt.xlabel('Number of points')\n",
    "plt.show()"
   ],
   "id": "e8d0cc21fdf0af0e"
  },
  {
   "metadata": {},
   "cell_type": "markdown",
   "source": "",
   "id": "7a531968940c556a"
  }
 ],
 "metadata": {
  "kernelspec": {
   "display_name": "Python 3 (ipykernel)",
   "language": "python",
   "name": "python3"
  },
  "language_info": {
   "codemirror_mode": {
    "name": "ipython",
    "version": 3
   },
   "file_extension": ".py",
   "mimetype": "text/x-python",
   "name": "python",
   "nbconvert_exporter": "python",
   "pygments_lexer": "ipython3",
   "version": "3.10.4"
  }
 },
 "nbformat": 4,
 "nbformat_minor": 5
}
