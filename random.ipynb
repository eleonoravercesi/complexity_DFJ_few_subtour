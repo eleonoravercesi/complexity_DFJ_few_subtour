{
 "cells": [
  {
   "metadata": {},
   "cell_type": "markdown",
   "source": "# Distribution of minimum number of SECs for ranndom instances",
   "id": "d0cc7960db37c3d"
  },
  {
   "metadata": {},
   "cell_type": "markdown",
   "source": [
    "In this notebook, we will analyze the distribution of the minimum number of SECs for random instances. \n",
    "We analyzed three types of random instances:\n",
    "- Random instances where the costs are drawn at random from a uniform distribution (non metric)\n",
    "- Random instances where the costs are drawn at random from an exponential distribution (non metric)\n",
    "- Random instances in the euclidean plane where the points are drawn at random from a uniform distribution (metric)\n",
    "The behavior of the minimum number of SECs is quite different for these three types of random instances and will be analyzed using boxplots.\n",
    "\n",
    "First we import the necessary libraries as well as the function for generating random instances."
   ],
   "id": "518bf42339feca80"
  },
  {
   "metadata": {
    "ExecuteTime": {
     "end_time": "2024-08-07T15:38:48.553801Z",
     "start_time": "2024-08-07T15:38:48.126659Z"
    }
   },
   "cell_type": "code",
   "source": [
    "from utils import sample, ialg\n",
    "import numpy as np\n",
    "import matplotlib.pyplot as plt\n",
    "from tqdm import tqdm"
   ],
   "id": "b2fdafb0983b9dca",
   "outputs": [],
   "execution_count": 1
  },
  {
   "metadata": {},
   "cell_type": "markdown",
   "source": "## Random instances where the costs are drawn at random from a uniform distribution",
   "id": "28cd6b2efd523910"
  },
  {
   "metadata": {
    "ExecuteTime": {
     "end_time": "2024-08-07T15:38:48.555979Z",
     "start_time": "2024-08-07T15:38:48.554575Z"
    }
   },
   "cell_type": "code",
   "source": [
    "n_min = 10\n",
    "n_max = 30 # You can increase this value as you want, but it will take more time\n",
    "step = 5\n",
    "n_samples_for_each_n = 60 # This is the value we used in the paper"
   ],
   "id": "5721902f640fbc38",
   "outputs": [],
   "execution_count": 2
  },
  {
   "metadata": {
    "ExecuteTime": {
     "end_time": "2024-08-07T15:38:52.674455Z",
     "start_time": "2024-08-07T15:38:48.556406Z"
    }
   },
   "cell_type": "code",
   "source": [
    "out = {}\n",
    "for n in tqdm(range(n_min, n_max + 1, step)):\n",
    "    out[n] = []\n",
    "    for i in range(n_samples_for_each_n):\n",
    "        np.random.seed(n*i) # To ensure reproducibility\n",
    "        # Sample n points in the unit square\n",
    "        G = sample(n, \"uniform\")\n",
    "        S_family, S_num = ialg(G) # Here, we do not use verbosity, as the line printed will be too much\n",
    "        out[n].append(S_num)"
   ],
   "id": "39c3f4791a05246d",
   "outputs": [
    {
     "name": "stderr",
     "output_type": "stream",
     "text": [
      "  0%|          | 0/5 [00:00<?, ?it/s]"
     ]
    },
    {
     "name": "stdout",
     "output_type": "stream",
     "text": [
      "Set parameter Username\n",
      "Academic license - for non-commercial use only - expires 2025-01-18\n"
     ]
    },
    {
     "name": "stderr",
     "output_type": "stream",
     "text": [
      "100%|██████████| 5/5 [00:04<00:00,  1.03it/s]\n"
     ]
    }
   ],
   "execution_count": 3
  },
  {
   "metadata": {},
   "cell_type": "markdown",
   "source": "Results are presented in the following boxplot.",
   "id": "305da159d1fad456"
  },
  {
   "metadata": {
    "ExecuteTime": {
     "end_time": "2024-08-07T15:39:01.721177Z",
     "start_time": "2024-08-07T15:39:01.666604Z"
    }
   },
   "cell_type": "code",
   "source": [
    "plt.figure()\n",
    "for n in range(n_min, n_max + 1, step):\n",
    "    x = out[n]\n",
    "    # Make a boxplot ouf of x\n",
    "    bp = plt.boxplot(x, vert=True, patch_artist=True, positions=[n], widths=0.6, showfliers=False) # Just to make the boxplot more readable\n",
    "    # This part of code can ignored, but we used for the tkiz plot\n",
    "    # median = np.median(x)\n",
    "    # Q1 = np.percentile(x, 25)\n",
    "    # Q3 = np.percentile(x, 75)\n",
    "    # IQR = Q3 - Q1\n",
    "    # LW = Q1 - 1.5*IQR\n",
    "    # UW = Q3 + 1.5*IQR\n",
    "    #print(f\"\\\\addplot+ [thick, boxplot prepared={{lower whisker={max(0, LW)}, lower quartile={Q1},median={median}, upper quartile={Q3},upper whisker={UW}}}] coordinates {{}};\")\n",
    "    for patch in bp['boxes']:\n",
    "        patch.set_facecolor('white')\n",
    "        patch.set_edgecolor('black')\n",
    "        for median in bp['medians']:\n",
    "            median.set(color='black', linewidth=2)\n",
    "plt.xlabel('Number of points')\n",
    "plt.ylabel('Number of SECs')\n",
    "plt.show()"
   ],
   "id": "cd838a0f8cb7baef",
   "outputs": [
    {
     "data": {
      "text/plain": [
       "<Figure size 432x288 with 1 Axes>"
      ],
      "image/png": "[encoded data removed]"
     },
     "metadata": {
      "needs_background": "light"
     },
     "output_type": "display_data"
    }
   ],
   "execution_count": 5
  },
  {
   "metadata": {},
   "cell_type": "markdown",
   "source": "## Random instances where the costs are drawn at random from an exponential distribution",
   "id": "ee83e5e169eacdd7"
  },
  {
   "metadata": {
    "ExecuteTime": {
     "end_time": "2024-08-07T15:39:07.692831Z",
     "start_time": "2024-08-07T15:39:07.688663Z"
    }
   },
   "cell_type": "code",
   "source": [
    "n_min = 10\n",
    "n_max = 55 # You can increase this value as you want, but it will take more time\n",
    "step = 5\n",
    "n_samples_for_each_n = 60 # This is the value we used in the paper"
   ],
   "id": "8b929bacc69a7b33",
   "outputs": [],
   "execution_count": 6
  },
  {
   "metadata": {
    "ExecuteTime": {
     "end_time": "2024-08-07T15:45:45.530785Z",
     "start_time": "2024-08-07T15:39:09.144582Z"
    }
   },
   "cell_type": "code",
   "source": [
    "out = {}\n",
    "for n in tqdm(range(n_min, n_max + 1, step)):\n",
    "    out[n] = []\n",
    "    for i in range(n_samples_for_each_n):\n",
    "        np.random.seed(n*i) # To ensure reproducibility\n",
    "        # Sample n points in the unit square\n",
    "        G = sample(n, \"exponential\")\n",
    "        S_family, S_num = ialg(G) # Here, we do not use verbosity, as the line printed will be too much\n",
    "        out[n].append(S_num)"
   ],
   "id": "8b794a31d65568b1",
   "outputs": [
    {
     "name": "stderr",
     "output_type": "stream",
     "text": [
      "100%|██████████| 10/10 [06:36<00:00, 113.18s/it]\n"
     ]
    }
   ],
   "execution_count": 7
  },
  {
   "metadata": {
    "ExecuteTime": {
     "end_time": "2024-08-07T15:54:26.395232Z",
     "start_time": "2024-08-07T15:54:26.321832Z"
    }
   },
   "cell_type": "code",
   "source": [
    "plt.figure()\n",
    "for n in range(n_min, n_max + 1, step):\n",
    "    x = out[n]\n",
    "    # Make a boxplot ouf of x\n",
    "    bp = plt.boxplot(x, vert=True, patch_artist=True, positions=[n], widths=0.6, showfliers=False) # Just to make the boxplot more readable\n",
    "    #This part of code can ignored, but we used for the tkiz plot\n",
    "    # median = np.median(x)\n",
    "    # Q1 = np.percentile(x, 25)\n",
    "    # Q3 = np.percentile(x, 75)\n",
    "    # IQR = Q3 - Q1\n",
    "    # LW = Q1 - 1.5*IQR\n",
    "    # UW = Q3 + 1.5*IQR\n",
    "    # print(f\"\\\\addplot+ [thick, boxplot prepared={{lower whisker={max(0, LW)}, lower quartile={Q1},median={median}, upper quartile={Q3},upper whisker={UW}}}] coordinates {{}};\")\n",
    "    for patch in bp['boxes']:\n",
    "        patch.set_facecolor('white')\n",
    "        patch.set_edgecolor('black')\n",
    "        for median in bp['medians']:\n",
    "            median.set(color='black', linewidth=2)\n",
    "plt.xlabel('Number of points')\n",
    "plt.ylabel('Number of SECs')\n",
    "plt.show()"
   ],
   "id": "7e4de3306cb189bd",
   "outputs": [
    {
     "data": {
      "text/plain": [
       "<Figure size 432x288 with 1 Axes>"
      ],
      "image/png": "[encoded data removed]"
     },
     "metadata": {
      "needs_background": "light"
     },
     "output_type": "display_data"
    }
   ],
   "execution_count": 9
  },
  {
   "metadata": {},
   "cell_type": "markdown",
   "source": [
    "## Random instances in the euclidean plane where the points are drawn at random from a uniform distribution\n",
    "\n",
    "In this case, run the `ialg` algorithm on bigger instances is much harder. Hence, we will analyze the distribution of the minimum number of SECs for smaller instances."
   ],
   "id": "3b82c9cfa7dd966"
  },
  {
   "metadata": {
    "ExecuteTime": {
     "end_time": "2024-08-07T16:00:10.073430Z",
     "start_time": "2024-08-07T16:00:10.070907Z"
    }
   },
   "cell_type": "code",
   "source": [
    "n_min = 10\n",
    "n_max = 20 # You can increase this value as you want, but it will take more time\n",
    "step = 1\n",
    "n_samples_for_each_n = 60 # This is the value we used in the paper"
   ],
   "id": "6afa80399caa7ff3",
   "outputs": [],
   "execution_count": 12
  },
  {
   "metadata": {
    "jupyter": {
     "is_executing": true
    },
    "ExecuteTime": {
     "start_time": "2024-08-07T16:00:11.499615Z"
    }
   },
   "cell_type": "code",
   "source": [
    "out = {}\n",
    "for n in tqdm(range(n_min, n_max + 1, step)):\n",
    "    out[n] = []\n",
    "    for i in range(n_samples_for_each_n):\n",
    "        np.random.seed(n*i) # To ensure reproducibility\n",
    "        # Sample n points in the unit square\n",
    "        G = sample(n, \"uniform_points_in_unit_square\")\n",
    "        S_family, S_num = ialg(G) # Here, we do not use verbosity, as the line printed will be too much\n",
    "        out[n].append(S_num)"
   ],
   "id": "e81fcf17ea67e568",
   "outputs": [
    {
     "name": "stderr",
     "output_type": "stream",
     "text": [
      "\n",
      "  0%|          | 0/11 [00:00<?, ?it/s]\u001B[A\n",
      "  9%|▉         | 1/11 [00:00<00:02,  4.27it/s]\u001B[A\n",
      " 18%|█▊        | 2/11 [00:00<00:02,  3.32it/s]\u001B[A\n",
      " 27%|██▋       | 3/11 [00:01<00:02,  2.95it/s]\u001B[A\n",
      " 36%|███▋      | 4/11 [00:01<00:02,  2.36it/s]\u001B[A\n",
      " 45%|████▌     | 5/11 [00:02<00:03,  1.71it/s]\u001B[A"
     ]
    }
   ],
   "execution_count": null
  },
  {
   "metadata": {},
   "cell_type": "code",
   "outputs": [],
   "execution_count": null,
   "source": [
    "plt.figure()\n",
    "for n in range(n_min, n_max + 1, step):\n",
    "    x = out[n]\n",
    "    # Make a boxplot ouf of x\n",
    "    bp = plt.boxplot(x, vert=True, patch_artist=True, positions=[n], widths=0.6, showfliers=False) # Just to make the boxplot more readable\n",
    "    #This part of code can ignored, but we used for the tkiz plot\n",
    "    median = np.median(x)\n",
    "    Q1 = np.percentile(x, 25)\n",
    "    Q3 = np.percentile(x, 75)\n",
    "    IQR = Q3 - Q1\n",
    "    LW = Q1 - 1.5*IQR\n",
    "    UW = Q3 + 1.5*IQR\n",
    "    print(f\"\\\\addplot+ [thick, boxplot prepared={{lower whisker={max(0, LW)}, lower quartile={Q1},median={median}, upper quartile={Q3},upper whisker={UW}}}] coordinates {{}};\")\n",
    "    for patch in bp['boxes']:\n",
    "        patch.set_facecolor('white')\n",
    "        patch.set_edgecolor('black')\n",
    "        for median in bp['medians']:\n",
    "            median.set(color='black', linewidth=2)\n",
    "plt.xlabel('Number of points')\n",
    "plt.ylabel('Number of SECs')\n",
    "plt.show()"
   ],
   "id": "acca78aaf2c44d66"
  }
 ],
 "metadata": {
  "kernelspec": {
   "display_name": "Python 3",
   "language": "python",
   "name": "python3"
  },
  "language_info": {
   "codemirror_mode": {
    "name": "ipython",
    "version": 2
   },
   "file_extension": ".py",
   "mimetype": "text/x-python",
   "name": "python",
   "nbconvert_exporter": "python",
   "pygments_lexer": "ipython2",
   "version": "2.7.6"
  }
 },
 "nbformat": 4,
 "nbformat_minor": 5
}
