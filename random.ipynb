{
 "cells": [
  {
   "cell_type": "markdown",
   "id": "d0cc7960db37c3d",
   "metadata": {},
   "source": [
    "# Distribution of minimum number of SECs for random instances"
   ]
  },
  {
   "cell_type": "markdown",
   "id": "518bf42339feca80",
   "metadata": {},
   "source": [
    "In this notebook, we will analyze the distribution of the minimum number of SECs for random instances. \n",
    "We analyzed three types of random instances:\n",
    "- Random instances where the costs are drawn at random from a uniform distribution (non metric)\n",
    "- Random instances where the costs are drawn at random from an exponential distribution (non metric)\n",
    "- Random instances in the euclidean plane where the points are drawn at random from a uniform distribution (metric)\n",
    "The behavior of the minimum number of SECs is quite different for these three types of random instances and will be analyzed using boxplots.\n",
    "\n",
    "First we import the necessary libraries as well as the function for generating random instances."
   ]
  },
  {
   "cell_type": "code",
   "id": "b2fdafb0983b9dca",
   "metadata": {
    "ExecuteTime": {
     "end_time": "2024-09-17T18:58:28.725097Z",
     "start_time": "2024-09-17T18:58:28.052542Z"
    }
   },
   "source": [
    "from utils import sample\n",
    "from ialg import ialg\n",
    "import numpy as np\n",
    "import matplotlib.pyplot as plt\n",
    "from tqdm import tqdm\n",
    "import matplotlib.cbook as cbook"
   ],
   "outputs": [],
   "execution_count": 2
  },
  {
   "cell_type": "markdown",
   "id": "28cd6b2efd523910",
   "metadata": {},
   "source": [
    "## Random instances where the costs are drawn at random from a uniform distribution"
   ]
  },
  {
   "cell_type": "code",
   "id": "5721902f640fbc38",
   "metadata": {
    "ExecuteTime": {
     "end_time": "2024-09-17T13:34:52.625263Z",
     "start_time": "2024-09-17T13:34:52.622763Z"
    }
   },
   "source": [
    "n_min = 10\n",
    "n_max = 100 # You can increase this value as you want, but it will take more time\n",
    "step = 10\n",
    "n_samples_for_each_n = 100 # This is the value we used in the paper"
   ],
   "outputs": [],
   "execution_count": 2
  },
  {
   "cell_type": "code",
   "id": "ec2250f9-2feb-4201-a9be-90b2652fd2cc",
   "metadata": {
    "ExecuteTime": {
     "end_time": "2024-09-17T13:50:57.430549Z",
     "start_time": "2024-09-17T13:34:52.699517Z"
    }
   },
   "source": [
    "out = {}\n",
    "seed = 0\n",
    "for n in tqdm(range(n_min, n_max + 1, step)):\n",
    "    out[n] = []\n",
    "    for i in range(n_samples_for_each_n):\n",
    "        np.random.seed(seed) # To ensure reproducibility\n",
    "        seed += 1\n",
    "        # Sample n points in the unit square\n",
    "        G = sample(n, \"uniform\")\n",
    "        S_family, S_num, partitions, max_comp, runtime, bb_nodes = ialg(G) # Here, we do not use verbosity, as the line printed will be too many\n",
    "        out[n].append((S_family, S_num, partitions, max_comp, runtime, bb_nodes))"
   ],
   "outputs": [
    {
     "name": "stderr",
     "output_type": "stream",
     "text": [
      "  0%|          | 0/10 [00:00<?, ?it/s]"
     ]
    },
    {
     "name": "stdout",
     "output_type": "stream",
     "text": [
      "Set parameter Username\n",
      "Academic license - for non-commercial use only - expires 2025-01-18\n"
     ]
    },
    {
     "name": "stderr",
     "output_type": "stream",
     "text": [
      "100%|██████████| 10/10 [16:04<00:00, 96.47s/it] \n"
     ]
    }
   ],
   "execution_count": 3
  },
  {
   "cell_type": "markdown",
   "id": "e3a5988f-b4cd-44d1-89ba-5b419d5c2969",
   "metadata": {},
   "source": [
    "### Minimum number of subtour elimination constraints to prove optimality.\n",
    "\n",
    "First, we analyze the empirical distribution of the minimum number of SECs needed to prove optimality. We do it trough boxplots"
   ]
  },
  {
   "cell_type": "code",
   "id": "cd838a0f8cb7baef",
   "metadata": {
    "ExecuteTime": {
     "end_time": "2024-09-17T13:50:57.560881Z",
     "start_time": "2024-09-17T13:50:57.478446Z"
    }
   },
   "source": [
    "labels = [str(n) for n in range(n_min, n_max + 1, step)]\n",
    "\n",
    "data = np.zeros((n_samples_for_each_n, len(labels)))\n",
    "\n",
    "for i, n in enumerate(out.keys()):\n",
    "    data[:, i] = sorted([y[1] for y in out[n]])\n",
    "\n",
    "F = open(\"./output/boxplot_uniform_data.csv\", \"w+\")\n",
    "for i in range(data.shape[0]):\n",
    "    for j in range(data.shape[1]):\n",
    "        F.write(f\"{data[i, j]},\")\n",
    "    F.write(\"\\n\")\n",
    "F.close()\n",
    "\n",
    "    \n",
    "# compute the boxplot stats\n",
    "stats = cbook.boxplot_stats(data, labels=labels)\n",
    "\n",
    "    \n",
    "\n",
    "# draw boxplots\n",
    "fig, ax = plt.subplots()\n",
    "bplots = ax.bxp(stats, patch_artist=True, showfliers=True)\n",
    "\n",
    "# change colors\n",
    "colors = len(stats) * ['white']\n",
    "for patch, clr in zip(bplots[\"boxes\"], colors):\n",
    "    patch.set_facecolor(clr)\n",
    "\n",
    "plt.show()"
   ],
   "outputs": [
    {
     "data": {
      "text/plain": [
       "<Figure size 640x480 with 1 Axes>"
      ],
      "image/png": "[encoded data removed]"
     },
     "metadata": {},
     "output_type": "display_data"
    }
   ],
   "execution_count": 4
  },
  {
   "cell_type": "markdown",
   "id": "4b22f3e4-80c3-4064-8d78-011f18b3e6fa",
   "metadata": {},
   "source": [
    "### Trend of $c$ vs $c'$\n",
    "\n",
    "In this part, we want to assess the impact of the flag `minimalize` when setting to either `True` or `False`. \n",
    "\n",
    "The previous part of the expriments was done using `minimalize=True`, so the only part left to analyze is `minimalize=False`."
   ]
  },
  {
   "cell_type": "code",
   "id": "d87b31b3-9cdd-4a5b-bb1c-e30d39e79ecb",
   "metadata": {
    "ExecuteTime": {
     "end_time": "2024-09-17T13:50:57.577842Z",
     "start_time": "2024-09-17T13:50:57.575944Z"
    }
   },
   "source": [
    "n_min = 10\n",
    "n_max = 30 # You can increase this value as you want, but it will take more time\n",
    "step = 10\n",
    "n_samples_for_each_n = 100"
   ],
   "outputs": [],
   "execution_count": 5
  },
  {
   "cell_type": "code",
   "id": "755f3421-dca5-449b-a4ae-91bd53eaa967",
   "metadata": {
    "ExecuteTime": {
     "end_time": "2024-09-17T13:51:04.357889Z",
     "start_time": "2024-09-17T13:50:57.618216Z"
    }
   },
   "source": [
    "seed = 0\n",
    "out_minimalize_False = {}\n",
    "for n in tqdm(range(n_min, n_max + 1, step)):\n",
    "    out_minimalize_False[n] = []\n",
    "    for i in range(n_samples_for_each_n):\n",
    "        np.random.seed(seed) # To ensure reproducibility\n",
    "        seed += 1\n",
    "        # Sample n points in the unit square\n",
    "        G = sample(n, \"uniform\")\n",
    "        S_family, S_num, partitions, max_comp, runtime, bb_nodes = ialg(G, minimalize=False)\n",
    "        out_minimalize_False[n].append((S_family, S_num, partitions, max_comp, runtime))"
   ],
   "outputs": [
    {
     "name": "stderr",
     "output_type": "stream",
     "text": [
      "100%|██████████| 3/3 [00:06<00:00,  2.25s/it]\n"
     ]
    }
   ],
   "execution_count": 6
  },
  {
   "cell_type": "markdown",
   "id": "1ae35823-a45a-4957-8767-54dadf32873a",
   "metadata": {},
   "source": [
    "Note that, globally, the procedure take more less time when minimalize is equal to `False`"
   ]
  },
  {
   "cell_type": "markdown",
   "id": "77c525d0-65af-4f1f-ba0e-acf39ade425c",
   "metadata": {},
   "source": [
    "We report the distribution of $c'$ and $c$ as two side-by-side boxplots"
   ]
  },
  {
   "cell_type": "code",
   "id": "0efe5a25-fcd6-4935-9238-8286654c2f67",
   "metadata": {
    "ExecuteTime": {
     "end_time": "2024-09-17T13:51:04.486007Z",
     "start_time": "2024-09-17T13:51:04.408018Z"
    }
   },
   "source": [
    "plt.figure()\n",
    "for n in range(n_min, n_max + 1, step):\n",
    "    x = [y[3] for y in out[n]]\n",
    "    x_minimalize_False = [y[3] for y in out_minimalize_False[n]]\n",
    "    bp = plt.boxplot(x, vert=True, patch_artist=True, positions=[n], widths=0.6, showfliers=False)\n",
    "    bp_minimalize_False = plt.boxplot(x_minimalize_False, vert=True, patch_artist=True, positions=[n + 1], widths=0.6, showfliers=False)\n",
    "    for patch in bp['boxes']:\n",
    "        patch.set_facecolor('white')\n",
    "        patch.set_edgecolor('black')\n",
    "        for median in bp['medians']:\n",
    "            median.set(color='black', linewidth=1)\n",
    "    for patch in bp_minimalize_False['boxes']:\n",
    "        patch.set_facecolor('gray')\n",
    "        patch.set_edgecolor('black')\n",
    "        for median in bp_minimalize_False['medians']:\n",
    "            median.set(color='black', linewidth=1)\n",
    "plt.xlabel('Number of points')\n",
    "plt.show()"
   ],
   "outputs": [
    {
     "data": {
      "text/plain": [
       "<Figure size 640x480 with 1 Axes>"
      ],
      "image/png": "[encoded data removed]"
     },
     "metadata": {},
     "output_type": "display_data"
    }
   ],
   "execution_count": 7
  },
  {
   "cell_type": "markdown",
   "id": "ee83e5e169eacdd7",
   "metadata": {},
   "source": [
    "## Random instances where the costs are drawn at random from an exponential distribution"
   ]
  },
  {
   "cell_type": "code",
   "id": "0ac9475e-fa7d-4a06-a44c-ee3bb073f57f",
   "metadata": {
    "ExecuteTime": {
     "end_time": "2024-09-17T13:51:04.502231Z",
     "start_time": "2024-09-17T13:51:04.500134Z"
    }
   },
   "source": [
    "n_min = 10\n",
    "n_max = 100 #You can increase this value as you want, but it will take more time\n",
    "step = 10\n",
    "n_samples_for_each_n = 100"
   ],
   "outputs": [],
   "execution_count": 8
  },
  {
   "cell_type": "code",
   "id": "8b794a31d65568b1",
   "metadata": {
    "ExecuteTime": {
     "end_time": "2024-09-17T14:07:27.468672Z",
     "start_time": "2024-09-17T13:51:04.553785Z"
    }
   },
   "source": [
    "out = {}\n",
    "seed = 0\n",
    "for n in tqdm(range(n_min, n_max + 1, step)):\n",
    "    out[n] = []\n",
    "    for i in range(n_samples_for_each_n):\n",
    "        np.random.seed(seed) # To ensure reproducibility\n",
    "        seed += 1\n",
    "        # Sample n points in the unit square\n",
    "        G = sample(n, \"exponential\")\n",
    "        S_family, S_num, partitions, max_comp, runtime, bb_nodes = ialg(G) # Here, we do not use verbosity, as the line printed will be too many\n",
    "        out[n].append((S_family, S_num, partitions, max_comp, runtime, bb_nodes))"
   ],
   "outputs": [
    {
     "name": "stderr",
     "output_type": "stream",
     "text": [
      "100%|██████████| 10/10 [16:22<00:00, 98.29s/it] \n"
     ]
    }
   ],
   "execution_count": 9
  },
  {
   "cell_type": "code",
   "id": "7e4de3306cb189bd",
   "metadata": {
    "ExecuteTime": {
     "end_time": "2024-09-17T14:07:27.596636Z",
     "start_time": "2024-09-17T14:07:27.520460Z"
    }
   },
   "source": [
    "labels = [str(n) for n in range(n_min, n_max + 1, step)]\n",
    "\n",
    "data = np.zeros((n_samples_for_each_n, len(labels)))\n",
    "\n",
    "for i, n in enumerate(out.keys()):\n",
    "    data[:, i] = sorted([y[1] for y in out[n]])\n",
    "\n",
    "F = open(\"./output/boxplot_exponential_data.csv\", \"w+\")\n",
    "for i in range(data.shape[0]):\n",
    "    for j in range(data.shape[1]):\n",
    "        F.write(f\"{data[i, j]},\")\n",
    "    F.write(\"\\n\")\n",
    "F.close()\n",
    "\n",
    "    \n",
    "# compute the boxplot stats\n",
    "stats = cbook.boxplot_stats(data, labels=labels)\n",
    "\n",
    "    \n",
    "\n",
    "# draw boxplots\n",
    "fig, ax = plt.subplots()\n",
    "bplots = ax.bxp(stats, patch_artist=True, showfliers=True)\n",
    "\n",
    "# change colors\n",
    "colors = len(stats) * ['white']\n",
    "for patch, clr in zip(bplots[\"boxes\"], colors):\n",
    "    patch.set_facecolor(clr)\n",
    "\n",
    "plt.show()"
   ],
   "outputs": [
    {
     "data": {
      "text/plain": [
       "<Figure size 640x480 with 1 Axes>"
      ],
      "image/png": "[encoded data removed]"
     },
     "metadata": {},
     "output_type": "display_data"
    }
   ],
   "execution_count": 10
  },
  {
   "cell_type": "markdown",
   "id": "262e6fe2-16d1-4a5c-b753-ef6696fd5620",
   "metadata": {},
   "source": [
    "### Trend of $c$ vs $c'$\n",
    "\n",
    "In this part, we want to assess the impact of the flag `minimalize` when setting to either `True` or `False`. \n",
    "\n",
    "The previous part of the expriments was done using `minimalize=True`, so the only part left to analyze is `minimalize=False`."
   ]
  },
  {
   "cell_type": "code",
   "id": "8b929bacc69a7b33",
   "metadata": {
    "ExecuteTime": {
     "end_time": "2024-09-17T14:07:27.614224Z",
     "start_time": "2024-09-17T14:07:27.612374Z"
    }
   },
   "source": [
    "n_min = 10\n",
    "n_max = 30 # You can increase this value as you want, but it will take more time\n",
    "step = 10\n",
    "n_samples_for_each_n = 100 # This is the value we used in the paper"
   ],
   "outputs": [],
   "execution_count": 11
  },
  {
   "cell_type": "code",
   "id": "80f7b463-d0ca-469f-8c8f-14add9437855",
   "metadata": {
    "ExecuteTime": {
     "end_time": "2024-09-17T14:07:34.228202Z",
     "start_time": "2024-09-17T14:07:27.651846Z"
    }
   },
   "source": [
    "seed = 0\n",
    "out_minimalize_False = {}\n",
    "for n in tqdm(range(n_min, n_max + 1, step)):\n",
    "    out_minimalize_False[n] = []\n",
    "    for i in range(n_samples_for_each_n):\n",
    "        np.random.seed(seed) # To ensure reproducibility\n",
    "        seed += 1\n",
    "        # Sample n points in the unit square\n",
    "        G = sample(n, \"exponential\")\n",
    "        S_family, S_num, partitions, max_comp, runtime, bb_nodes = ialg(G, minimalize=False)\n",
    "        out_minimalize_False[n].append((S_family, S_num, partitions, max_comp, runtime, bb_nodes))"
   ],
   "outputs": [
    {
     "name": "stderr",
     "output_type": "stream",
     "text": [
      "100%|██████████| 3/3 [00:06<00:00,  2.19s/it]\n"
     ]
    }
   ],
   "execution_count": 12
  },
  {
   "cell_type": "markdown",
   "id": "d0613fc7-6951-41df-aaf9-2de0c7cbdfab",
   "metadata": {},
   "source": [
    "We report the distribution of $c$ and $c'$ as side by side boxplot"
   ]
  },
  {
   "cell_type": "code",
   "id": "2d3efbac-f889-4092-8f5b-f200d3b652ac",
   "metadata": {
    "ExecuteTime": {
     "end_time": "2024-09-17T14:07:34.348369Z",
     "start_time": "2024-09-17T14:07:34.277497Z"
    }
   },
   "source": [
    "plt.figure()\n",
    "for n in range(n_min, n_max + 1, step):\n",
    "    x = [y[3] for y in out[n]]\n",
    "    x_minimalize_False = [y[3] for y in out_minimalize_False[n]]\n",
    "    bp = plt.boxplot(x, vert=True, patch_artist=True, positions=[n], widths=0.6, showfliers=False)\n",
    "    bp_minimalize_False = plt.boxplot(x_minimalize_False, vert=True, patch_artist=True, positions=[n + 1], widths=0.6, showfliers=False)\n",
    "    for patch in bp['boxes']:\n",
    "        patch.set_facecolor('white')\n",
    "        patch.set_edgecolor('black')\n",
    "        for median in bp['medians']:\n",
    "            median.set(color='black', linewidth=1)\n",
    "    for patch in bp_minimalize_False['boxes']:\n",
    "        patch.set_facecolor('gray')\n",
    "        patch.set_edgecolor('black')\n",
    "        for median in bp_minimalize_False['medians']:\n",
    "            median.set(color='black', linewidth=1)\n",
    "plt.xlabel('Number of points')\n",
    "plt.show()"
   ],
   "outputs": [
    {
     "data": {
      "text/plain": [
       "<Figure size 640x480 with 1 Axes>"
      ],
      "image/png": "[encoded data removed]"
     },
     "metadata": {},
     "output_type": "display_data"
    }
   ],
   "execution_count": 13
  },
  {
   "cell_type": "markdown",
   "id": "3b82c9cfa7dd966",
   "metadata": {},
   "source": [
    "## Random instances in the euclidean plane where the points are drawn at random from a uniform distribution\n",
    "\n",
    "In this case, run the `ialg` algorithm on bigger instances is much harder. Hence, we will analyze the distribution of the minimum number of SECs for smaller instances."
   ]
  },
  {
   "cell_type": "code",
   "id": "6afa80399caa7ff3",
   "metadata": {
    "ExecuteTime": {
     "end_time": "2024-09-17T18:58:54.327240Z",
     "start_time": "2024-09-17T18:58:54.324667Z"
    }
   },
   "source": [
    "n_min = 10\n",
    "n_max = 50 # You can increase this value as you want, but it will take more time\n",
    "step = 5\n",
    "n_samples_for_each_n = 100 # This is the value we used in the paper"
   ],
   "outputs": [],
   "execution_count": 3
  },
  {
   "metadata": {},
   "cell_type": "markdown",
   "source": [
    "First, we\n",
    "analyze\n",
    "the\n",
    "empirical\n",
    "distribution\n",
    "of\n",
    "the\n",
    "minimum\n",
    "number\n",
    "of\n",
    "SECs\n",
    "needed\n",
    "to\n",
    "prove\n",
    "optimality.We\n",
    "do\n",
    "it\n",
    "trough\n",
    "boxplots"
   ],
   "id": "4293f00117c20608"
  },
  {
   "metadata": {
    "ExecuteTime": {
     "end_time": "2024-09-17T21:26:14.943449Z",
     "start_time": "2024-09-17T18:58:56.493526Z"
    }
   },
   "cell_type": "code",
   "source": [
    "out = {}\n",
    "seed = 0\n",
    "for n in tqdm(range(n_min, n_max + 1, step)):\n",
    "    out[n] = []\n",
    "    for i in range(n_samples_for_each_n):\n",
    "        np.random.seed(seed) # To ensure reproducibility\n",
    "        seed += 1\n",
    "        # Sample n points in the unit square\n",
    "        G = sample(n, \"uniform_points_in_unit_square\")\n",
    "        S_family, S_num, partitions, max_comp, runtime, bb_nodes = ialg(G) # Here, we do not use verbosity, as the line printed will be too many\n",
    "        out[n].append((S_family, S_num, partitions, max_comp, runtime))"
   ],
   "id": "f5ad40340ffcd73c",
   "outputs": [
    {
     "name": "stderr",
     "output_type": "stream",
     "text": [
      "  0%|          | 0/9 [00:00<?, ?it/s]"
     ]
    },
    {
     "name": "stdout",
     "output_type": "stream",
     "text": [
      "Set parameter Username\n",
      "Academic license - for non-commercial use only - expires 2025-01-18\n"
     ]
    },
    {
     "name": "stderr",
     "output_type": "stream",
     "text": [
      "100%|██████████| 9/9 [2:27:18<00:00, 982.05s/it] \n"
     ]
    }
   ],
   "execution_count": 4
  },
  {
   "metadata": {
    "ExecuteTime": {
     "end_time": "2024-09-17T21:26:15.595052Z",
     "start_time": "2024-09-17T21:26:15.145143Z"
    }
   },
   "cell_type": "code",
   "source": [
    "labels = [str(n) for n in range(n_min, n_max + 1, step)]\n",
    "\n",
    "data = np.zeros((n_samples_for_each_n, len(labels)))\n",
    "\n",
    "for i, n in enumerate(out.keys()):\n",
    "    data[:, i] = sorted([y[1] for y in out[n]])\n",
    "\n",
    "F = open(\"./output/boxplot_uniform_points_at_random_data.csv\", \"w+\")\n",
    "for i in range(data.shape[0]):\n",
    "    for j in range(data.shape[1]):\n",
    "        F.write(f\"{data[i, j]},\")\n",
    "    F.write(\"\\n\")\n",
    "F.close()\n",
    "\n",
    "    \n",
    "# compute the boxplot stats\n",
    "stats = cbook.boxplot_stats(data, labels=labels)\n",
    "\n",
    "    \n",
    "\n",
    "# draw boxplots\n",
    "fig, ax = plt.subplots()\n",
    "bplots = ax.bxp(stats, patch_artist=True, showfliers=True)\n",
    "\n",
    "# change colors\n",
    "colors = len(stats) * ['white']\n",
    "for patch, clr in zip(bplots[\"boxes\"], colors):\n",
    "    patch.set_facecolor(clr)\n",
    "\n",
    "plt.show()"
   ],
   "id": "e8d0cc21fdf0af0e",
   "outputs": [
    {
     "data": {
      "text/plain": [
       "<Figure size 640x480 with 1 Axes>"
      ],
      "image/png": "[encoded data removed]"
     },
     "metadata": {},
     "output_type": "display_data"
    }
   ],
   "execution_count": 6
  },
  {
   "metadata": {},
   "cell_type": "markdown",
   "source": [
    "### Trend of $c$ vs $c'$\n",
    "\n",
    "In this part, we want to assess the impact of the flag `minimalize` when setting to either `True` or `False`. \n",
    "\n",
    "The previous part of the expriments was done using `minimalize=True`, so the only part left to analyze is `minimalize=False`."
   ],
   "id": "7a531968940c556a"
  },
  {
   "metadata": {
    "ExecuteTime": {
     "end_time": "2024-09-17T21:26:15.608819Z",
     "start_time": "2024-09-17T21:26:15.606539Z"
    }
   },
   "cell_type": "code",
   "source": [
    "n_min = 10\n",
    "n_max = 20 # You can increase this value as you want, but it will take more time\n",
    "step = 10\n",
    "n_samples_for_each_n = 100 # This is the value we used in the paper"
   ],
   "id": "33a56dfd988ffbcc",
   "outputs": [],
   "execution_count": 7
  },
  {
   "metadata": {
    "ExecuteTime": {
     "end_time": "2024-09-17T21:26:19.777226Z",
     "start_time": "2024-09-17T21:26:15.652446Z"
    }
   },
   "cell_type": "code",
   "source": [
    "seed = 0\n",
    "out_minimalize_False = {}\n",
    "for n in tqdm(range(n_min, n_max + 1, step)):\n",
    "    out_minimalize_False[n] = []\n",
    "    for i in range(n_samples_for_each_n):\n",
    "        np.random.seed(seed) # To ensure reproducibility\n",
    "        seed += 1\n",
    "        # Sample n points in the unit square\n",
    "        G = sample(n, \"uniform_points_in_unit_square\")\n",
    "        S_family, S_num, partitions, max_comp, runtime, bb_nodes = ialg(G, minimalize=False)\n",
    "        out_minimalize_False[n].append((S_family, S_num, partitions, max_comp, runtime,bb_nodes))"
   ],
   "id": "ba3b7dec34418230",
   "outputs": [
    {
     "name": "stderr",
     "output_type": "stream",
     "text": [
      "100%|██████████| 2/2 [00:04<00:00,  2.06s/it]\n"
     ]
    }
   ],
   "execution_count": 8
  },
  {
   "metadata": {
    "ExecuteTime": {
     "end_time": "2024-09-17T21:26:19.840069Z",
     "start_time": "2024-09-17T21:26:19.785043Z"
    }
   },
   "cell_type": "code",
   "source": [
    "plt.figure()\n",
    "for n in range(n_min, n_max + 1, step):\n",
    "    x = [y[3] for y in out[n]]\n",
    "    x_minimalize_False = [y[3] for y in out_minimalize_False[n]]\n",
    "    bp = plt.boxplot(x, vert=True, patch_artist=True, positions=[n], widths=0.6, showfliers=False)\n",
    "    bp_minimalize_False = plt.boxplot(x_minimalize_False, vert=True, patch_artist=True, positions=[n + 1], widths=0.6, showfliers=False)\n",
    "    for patch in bp['boxes']:\n",
    "        patch.set_facecolor('white')\n",
    "        patch.set_edgecolor('black')\n",
    "        for median in bp['medians']:\n",
    "            median.set(color='black', linewidth=1)\n",
    "    for patch in bp_minimalize_False['boxes']:\n",
    "        patch.set_facecolor('gray')\n",
    "        patch.set_edgecolor('black')\n",
    "        for median in bp_minimalize_False['medians']:\n",
    "            median.set(color='black', linewidth=1)\n",
    "plt.xlabel('Number of points')\n",
    "plt.show()"
   ],
   "id": "4de51a50b15bd298",
   "outputs": [
    {
     "data": {
      "text/plain": [
       "<Figure size 640x480 with 1 Axes>"
      ],
      "image/png": "[encoded data removed]"
     },
     "metadata": {},
     "output_type": "display_data"
    }
   ],
   "execution_count": 9
  },
  {
   "metadata": {},
   "cell_type": "code",
   "source": "",
   "id": "7b374a5d3df4862f",
   "outputs": [],
   "execution_count": null
  }
 ],
 "metadata": {
  "kernelspec": {
   "display_name": "Python 3 (ipykernel)",
   "language": "python",
   "name": "python3"
  },
  "language_info": {
   "codemirror_mode": {
    "name": "ipython",
    "version": 3
   },
   "file_extension": ".py",
   "mimetype": "text/x-python",
   "name": "python",
   "nbconvert_exporter": "python",
   "pygments_lexer": "ipython3",
   "version": "3.10.4"
  }
 },
 "nbformat": 4,
 "nbformat_minor": 5
}
