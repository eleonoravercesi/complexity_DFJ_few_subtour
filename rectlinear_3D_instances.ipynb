{
 "cells": [
  {
   "metadata": {},
   "cell_type": "markdown",
   "source": [
    "# Zhong instances may need a quadratic number of SECs to be solved to optimality if $n = 1 \\mod 3$\n",
    "\n",
    "In this notebook, we validate the claims of the Section 5.4, claiming that the Rectilinear 3-Dimensional instances proposed by [1] may need a quadratic number of SECs to be solved to optimality if $n = 1 \\mod 3$.\n",
    "\n",
    "[1] Zhong, Xianghui. \"Lower Bounds on the Integraliy Ratio of the Subtour LP for the Traveling Salesman Problem.\" arXiv preprint arXiv:2102.04765 (2021)."
   ],
   "id": "60fac987fe96dda3"
  },
  {
   "metadata": {
    "ExecuteTime": {
     "end_time": "2024-09-15T18:42:42.589938Z",
     "start_time": "2024-09-15T18:42:42.411409Z"
    }
   },
   "cell_type": "code",
   "source": [
    "from ialg import *\n",
    "import numpy as np\n",
    "from scipy.spatial.distance import cdist"
   ],
   "id": "c9552d01a8ed8c43",
   "outputs": [],
   "execution_count": 1
  },
  {
   "metadata": {},
   "cell_type": "markdown",
   "source": "",
   "id": "c25c20a7c004b4e2"
  },
  {
   "metadata": {},
   "cell_type": "markdown",
   "source": [
    "## Numerical tests validating our hypotheis\n",
    "\n",
    "Let's start with some auxiliary functions"
   ],
   "id": "61c95da237fc5e41"
  },
  {
   "metadata": {
    "ExecuteTime": {
     "end_time": "2024-09-15T18:42:42.667505Z",
     "start_time": "2024-09-15T18:42:42.663159Z"
    }
   },
   "cell_type": "code",
   "source": [
    "def generates_all_chains(Ls):\n",
    "    m = len(Ls)\n",
    "    chains = []\n",
    "    for k in range(3, m + 1):\n",
    "        for i in range(m - k + 1):\n",
    "            chains.append(Ls[i:i + k])\n",
    "    return chains\n",
    "\n",
    "def generates_zhong_SECs(n):\n",
    "    i = (n - 1) // 3 - 2\n",
    "    G1 = list(range(i + 2))\n",
    "    G2 = list(range(i + 2, 2 * i + 3))\n",
    "    G3 = list(range(2 * i + 3, n))\n",
    "    C1 = generates_all_chains(G1)\n",
    "    C2 = generates_all_chains(G2)\n",
    "    C3 = generates_all_chains(G3)\n",
    "    C_all = C1 + C2 + C3\n",
    "    return C_all\n",
    "\n",
    "def derive_i_from_n(n):\n",
    "    return (n - 1) // 3 - 2\n",
    "\n",
    "def sum_first_k_integers(k):\n",
    "    return k * (k + 1) // 2\n",
    "\n",
    "def theoretical_number_of_SECs(n):\n",
    "    i = derive_i_from_n(n)\n",
    "    return sum_first_k_integers(i) + sum_first_k_integers(i - 1) + sum_first_k_integers(i + 2) # Note that is quadratic in i, hence, quadratic in n\n",
    "\n",
    "def generate_rectilinear_3D_instance(n):\n",
    "    i = derive_i_from_n(n)\n",
    "    j = i - 1\n",
    "    k = i + 2\n",
    "    P = []\n",
    "    assert i + j + k + 6 == n\n",
    "    for s in range(0, i + 2):\n",
    "        P.append([0, 0, s/(i + 1)])\n",
    "    for s in range(0, j + 2):\n",
    "        P.append([(1/(i+1)) + (1/(j+1)), 0, s/(j+1)])\n",
    "    for s in range(0, k + 2):\n",
    "        P.append([1 / (i + 1), 1 / (k + 1), s / (k + 1)])\n",
    "    assert len(P) == n\n",
    "    # Find the commont denominator\n",
    "    delta = np.lcm.reduce([(i+1), (j+1), (k+1)])\n",
    "    # Multiply everything by the common denominator\n",
    "    P = np.array(P) * delta\n",
    "    # Compute the distances\n",
    "    C = cdist(P, P, 'minkowski', p=1)\n",
    "    G = nx.Graph()\n",
    "    for i in range(n):\n",
    "        for j in range(i + 1, n):\n",
    "            # Just check that all the valuse are integers\n",
    "            G.add_edge(i, j, cost=int(C[i][j])) # We need to convert to integer\n",
    "    return G\n",
    "    "
   ],
   "id": "e78a0d5a09ae1bba",
   "outputs": [],
   "execution_count": 2
  },
  {
   "metadata": {},
   "cell_type": "markdown",
   "source": "Now, let's test the constraints we have to asses if we have a tour - you may need a while for solving everything, remember that these are HARD instances",
   "id": "477082db99761960"
  },
  {
   "metadata": {
    "ExecuteTime": {
     "end_time": "2024-09-15T19:08:55.133120Z",
     "start_time": "2024-09-15T18:43:25.578209Z"
    }
   },
   "cell_type": "code",
   "source": [
    "for n in [13, 16, 19, 22, 25, 28, 31, 34]:\n",
    "    print(f\"n = {n}\")\n",
    "    G = generate_rectilinear_3D_instance(n)\n",
    "    # Compute the minimum number of SECs\n",
    "    S_family, S_num, partitions, max_comp, runtime, bb_nodes = ialg(G, verbose=False)\n",
    "    S_set_conjectured = theoretical_number_of_SECs(n)\n",
    "    print(\"For n = \", n, \" we need \", S_num, \"SECs\", \"out of the \", S_set_conjectured, \"conjectured\")\n",
    "    is_true = S_num == S_set_conjectured\n",
    "    if not is_true:\n",
    "        print(\"\\tThe conjecture is wrong for n = \", n)\n",
    "    else:\n",
    "        print(\"\\tRemoving one set at time...\")\n",
    "        # Check also that the set if minimal \n",
    "        found_error = False\n",
    "        S_set_conjectured_list = generates_zhong_SECs(n)\n",
    "        for s in range(S_num):\n",
    "            # Consider a set of SECs without the s-th SEC\n",
    "            S_set_test = [S_set_conjectured_list[i] for i in range(S_num) if i != s]\n",
    "            # Solve TSP with just these SECs\n",
    "            vals, components = mip(G, initial_subtours=S_set_test, return_components=True, verbose=False)\n",
    "            if len(components) == 1:\n",
    "                found_error = True\n",
    "                print(\"\\tThe conjectured set is not minimal\")\n",
    "                continue\n",
    "        if not found_error:\n",
    "            print(\"\\tThe conjectured set is minimal\")"
   ],
   "id": "3677c0dbebc96b32",
   "outputs": [
    {
     "name": "stdout",
     "output_type": "stream",
     "text": [
      "n = 13\n",
      "For n =  13  we need  14 SECs out of the  14 conjectured\n",
      "\tRemoving one set at time...\n",
      "\tThe conjectured set is minimal\n",
      "n = 16\n",
      "For n =  16  we need  15 SECs out of the  24 conjectured\n",
      "\tThe conjecture is wrong for n =  16\n",
      "n = 19\n",
      "For n =  19  we need  37 SECs out of the  37 conjectured\n",
      "\tRemoving one set at time...\n",
      "\tThe conjectured set is minimal\n",
      "n = 22\n",
      "For n =  22  we need  53 SECs out of the  53 conjectured\n",
      "\tRemoving one set at time...\n",
      "\tThe conjectured set is minimal\n",
      "n = 25\n",
      "For n =  25  we need  72 SECs out of the  72 conjectured\n",
      "\tRemoving one set at time...\n",
      "\tThe conjectured set is minimal\n",
      "n = 28\n",
      "For n =  28  we need  94 SECs out of the  94 conjectured\n",
      "\tRemoving one set at time...\n",
      "\tThe conjectured set is minimal\n",
      "n = 31\n",
      "For n =  31  we need  119 SECs out of the  119 conjectured\n",
      "\tRemoving one set at time...\n",
      "\tThe conjectured set is minimal\n",
      "n = 34\n",
      "For n =  34  we need  147 SECs out of the  147 conjectured\n",
      "\tRemoving one set at time...\n",
      "\tThe conjectured set is minimal\n"
     ]
    }
   ],
   "execution_count": 4
  },
  {
   "metadata": {},
   "cell_type": "code",
   "outputs": [],
   "execution_count": null,
   "source": "",
   "id": "237c9ca9862889da"
  }
 ],
 "metadata": {
  "kernelspec": {
   "display_name": "Python 3",
   "language": "python",
   "name": "python3"
  },
  "language_info": {
   "codemirror_mode": {
    "name": "ipython",
    "version": 2
   },
   "file_extension": ".py",
   "mimetype": "text/x-python",
   "name": "python",
   "nbconvert_exporter": "python",
   "pygments_lexer": "ipython2",
   "version": "2.7.6"
  }
 },
 "nbformat": 4,
 "nbformat_minor": 5
}
